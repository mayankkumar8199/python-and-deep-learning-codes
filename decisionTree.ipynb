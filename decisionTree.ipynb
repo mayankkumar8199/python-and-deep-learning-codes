{
 "cells": [
  {
   "cell_type": "code",
   "execution_count": 4,
   "id": "76518399-81f3-4558-a2a0-79a414820edb",
   "metadata": {},
   "outputs": [],
   "source": [
    "#code:entropy\n",
    "import numpy as np"
   ]
  },
  {
   "cell_type": "code",
   "execution_count": 5,
   "id": "bb39874d-ce05-4b03-a134-4048c078d316",
   "metadata": {},
   "outputs": [],
   "source": [
    "Y = np.array([1,0,0,1,0,1,0,1])"
   ]
  },
  {
   "cell_type": "code",
   "execution_count": 12,
   "id": "a9e599bf-99b1-4f78-b316-eb03b8c6f3cb",
   "metadata": {},
   "outputs": [],
   "source": [
    "def entropy(var):\n",
    "    N = var.shape[0]\n",
    "    values,counts = np.unique(Y,return_counts=True)\n",
    "    ent = 0.0\n",
    "    #0 entropy in beginning\n",
    "    for i in counts:\n",
    "        p = i/N\n",
    "        ent += (p * np.log2(p))\n",
    "    return -ent\n",
    "  "
   ]
  },
  {
   "cell_type": "code",
   "execution_count": 13,
   "id": "a2754753-0a2b-41fa-8b99-b1ad3f5c2f29",
   "metadata": {},
   "outputs": [
    {
     "data": {
      "text/plain": [
       "1.0"
      ]
     },
     "execution_count": 13,
     "metadata": {},
     "output_type": "execute_result"
    }
   ],
   "source": [
    "entropy(Y)"
   ]
  },
  {
   "cell_type": "code",
   "execution_count": 14,
   "id": "460af93a-2af1-4a19-9fa4-bc0beb4a5b05",
   "metadata": {},
   "outputs": [],
   "source": [
    "Y = np.array([1,0,0,1,0,1,0,1])"
   ]
  },
  {
   "cell_type": "code",
   "execution_count": 15,
   "id": "73c93839-035d-439c-9fb4-0a6a8f8fb176",
   "metadata": {},
   "outputs": [
    {
     "data": {
      "text/plain": [
       "1.0"
      ]
     },
     "execution_count": 15,
     "metadata": {},
     "output_type": "execute_result"
    }
   ],
   "source": [
    "entropy(Y)"
   ]
  },
  {
   "cell_type": "code",
   "execution_count": null,
   "id": "366156fc-c133-4116-896d-1cce91523288",
   "metadata": {},
   "outputs": [],
   "source": []
  }
 ],
 "metadata": {
  "kernelspec": {
   "display_name": "Python 3 (ipykernel)",
   "language": "python",
   "name": "python3"
  },
  "language_info": {
   "codemirror_mode": {
    "name": "ipython",
    "version": 3
   },
   "file_extension": ".py",
   "mimetype": "text/x-python",
   "name": "python",
   "nbconvert_exporter": "python",
   "pygments_lexer": "ipython3",
   "version": "3.11.7"
  }
 },
 "nbformat": 4,
 "nbformat_minor": 5
}
