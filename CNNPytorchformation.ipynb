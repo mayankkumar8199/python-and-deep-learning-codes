{
 "cells": [
  {
   "cell_type": "code",
   "execution_count": null,
   "id": "f85c27a4-e4b1-4c87-b04d-ffd22ffd2d8f",
   "metadata": {},
   "outputs": [],
   "source": [
    "#convolutional neural network\n",
    "#effective in recognizing the spatial data for our benefits \n",
    "#similarity b/w conv neural netowrk \n",
    "#pixel shown in following representations\n",
    "#convolution layer\n",
    "#image from 0 to 255 . convolution layers \n",
    "#3X3 convolution operation to stride to the work into the dework the moment \n"
   ]
  }
 ],
 "metadata": {
  "kernelspec": {
   "display_name": "Python 3 (ipykernel)",
   "language": "python",
   "name": "python3"
  },
  "language_info": {
   "codemirror_mode": {
    "name": "ipython",
    "version": 3
   },
   "file_extension": ".py",
   "mimetype": "text/x-python",
   "name": "python",
   "nbconvert_exporter": "python",
   "pygments_lexer": "ipython3",
   "version": "3.11.7"
  }
 },
 "nbformat": 4,
 "nbformat_minor": 5
}
