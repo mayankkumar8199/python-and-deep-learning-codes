{
 "cells": [
  {
   "cell_type": "code",
   "execution_count": 2,
   "id": "0ac8c68a-10e1-4b2f-8a58-ad5aa548ba58",
   "metadata": {},
   "outputs": [],
   "source": [
    "import numpy as np"
   ]
  },
  {
   "cell_type": "code",
   "execution_count": 2,
   "id": "019cb383-ae75-412c-9082-8d6ab3d42435",
   "metadata": {},
   "outputs": [],
   "source": [
    "def solve_final_layer(inputs, outputs):\n",
    "    # Perform linear regression to extract weights and biases\n",
    "    hidden = np.concatenate([inputs, np.ones((inputs.shape[0], 1))], axis=1)\n",
    "    solution = np.linalg.lstsq(hidden, outputs)\n",
    "\n",
    "    # Extract weights and biases\n",
    "    weights = solution[0][:-1]\n",
    "    bias = solution[0][-1]\n",
    "\n",
    "    return weights, bias"
   ]
  },
  {
   "cell_type": "code",
   "execution_count": 3,
   "id": "a03a268f-fa68-4b8d-a93d-44c8b8d94f65",
   "metadata": {},
   "outputs": [
    {
     "ename": "FileNotFoundError",
     "evalue": "[Errno 2] No such file or directory: 'inputs.npy'",
     "output_type": "error",
     "traceback": [
      "\u001b[1;31m---------------------------------------------------------------------------\u001b[0m",
      "\u001b[1;31mFileNotFoundError\u001b[0m                         Traceback (most recent call last)",
      "Cell \u001b[1;32mIn[3], line 2\u001b[0m\n\u001b[0;32m      1\u001b[0m \u001b[38;5;66;03m# Load inputs and outputs (assuming they are given)\u001b[39;00m\n\u001b[1;32m----> 2\u001b[0m inputs \u001b[38;5;241m=\u001b[39m np\u001b[38;5;241m.\u001b[39mload(\u001b[38;5;124m\"\u001b[39m\u001b[38;5;124minputs.npy\u001b[39m\u001b[38;5;124m\"\u001b[39m)  \u001b[38;5;66;03m# Assuming you have saved your inputs\u001b[39;00m\n\u001b[0;32m      3\u001b[0m outputs \u001b[38;5;241m=\u001b[39m np\u001b[38;5;241m.\u001b[39mload(\u001b[38;5;124m\"\u001b[39m\u001b[38;5;124moutputs.npy\u001b[39m\u001b[38;5;124m\"\u001b[39m)\n",
      "File \u001b[1;32m~\\anaconda3\\Lib\\site-packages\\numpy\\lib\\npyio.py:427\u001b[0m, in \u001b[0;36mload\u001b[1;34m(file, mmap_mode, allow_pickle, fix_imports, encoding, max_header_size)\u001b[0m\n\u001b[0;32m    425\u001b[0m     own_fid \u001b[38;5;241m=\u001b[39m \u001b[38;5;28;01mFalse\u001b[39;00m\n\u001b[0;32m    426\u001b[0m \u001b[38;5;28;01melse\u001b[39;00m:\n\u001b[1;32m--> 427\u001b[0m     fid \u001b[38;5;241m=\u001b[39m stack\u001b[38;5;241m.\u001b[39menter_context(\u001b[38;5;28mopen\u001b[39m(os_fspath(file), \u001b[38;5;124m\"\u001b[39m\u001b[38;5;124mrb\u001b[39m\u001b[38;5;124m\"\u001b[39m))\n\u001b[0;32m    428\u001b[0m     own_fid \u001b[38;5;241m=\u001b[39m \u001b[38;5;28;01mTrue\u001b[39;00m\n\u001b[0;32m    430\u001b[0m \u001b[38;5;66;03m# Code to distinguish from NumPy binary files and pickles.\u001b[39;00m\n",
      "\u001b[1;31mFileNotFoundError\u001b[0m: [Errno 2] No such file or directory: 'inputs.npy'"
     ]
    }
   ],
   "source": [
    "\n",
    "# Load inputs and outputs (assuming they are given)\n",
    "inputs = np.load(\"inputs.npy\")  # Assuming you have saved your inputs\n",
    "outputs = np.load(\"outputs.npy\")  # Assuming you have saved your outputs\n"
   ]
  },
  {
   "cell_type": "code",
   "execution_count": null,
   "id": "70b39415-c077-4c70-974e-7cd078b36e0b",
   "metadata": {},
   "outputs": [],
   "source": []
  },
  {
   "cell_type": "code",
   "execution_count": null,
   "id": "be50c223-df3a-441a-8fec-d1c35ef9fbc0",
   "metadata": {},
   "outputs": [],
   "source": []
  },
  {
   "cell_type": "code",
   "execution_count": null,
   "id": "04befbfb-1f3d-4e55-853c-bd6c30d7769d",
   "metadata": {},
   "outputs": [],
   "source": []
  },
  {
   "cell_type": "code",
   "execution_count": null,
   "id": "cc1b1871-7e4e-4bff-a7a4-8b7358dfc5eb",
   "metadata": {},
   "outputs": [],
   "source": []
  },
  {
   "cell_type": "code",
   "execution_count": null,
   "id": "43883346-ba0b-4b71-9697-97c0ed3fdee4",
   "metadata": {},
   "outputs": [],
   "source": []
  },
  {
   "cell_type": "code",
   "execution_count": 3,
   "id": "8592b791-9932-4c4e-8e8d-675012049ba0",
   "metadata": {},
   "outputs": [],
   "source": [
    "np.random.seed(101)"
   ]
  },
  {
   "cell_type": "code",
   "execution_count": 4,
   "id": "b72ad5ff-e1a9-478d-aab9-4014f2bc1d5a",
   "metadata": {},
   "outputs": [
    {
     "ename": "SyntaxError",
     "evalue": "invalid syntax (4089140875.py, line 1)",
     "output_type": "error",
     "traceback": [
      "\u001b[1;36m  Cell \u001b[1;32mIn[4], line 1\u001b[1;36m\u001b[0m\n\u001b[1;33m    arr np.random.randint(0,100)\u001b[0m\n\u001b[1;37m        ^\u001b[0m\n\u001b[1;31mSyntaxError\u001b[0m\u001b[1;31m:\u001b[0m invalid syntax\n"
     ]
    }
   ],
   "source": [
    "arr np.random.randint(0,100)"
   ]
  },
  {
   "cell_type": "code",
   "execution_count": 13,
   "id": "94733a5a-a7d8-4e49-9c71-5106c7245693",
   "metadata": {},
   "outputs": [],
   "source": [
    "import torch\n",
    "v = torch.tensor([1,2,3,4,5,6])"
   ]
  },
  {
   "cell_type": "code",
   "execution_count": 14,
   "id": "35306463-ece7-4076-a729-ff0bcdcf664b",
   "metadata": {},
   "outputs": [
    {
     "name": "stdout",
     "output_type": "stream",
     "text": [
      "tensor([2, 3])\n"
     ]
    }
   ],
   "source": [
    "print(v[1:3])"
   ]
  },
  {
   "cell_type": "code",
   "execution_count": 15,
   "id": "0b4ad25d-23db-4d5c-b674-8d0472cbbc09",
   "metadata": {},
   "outputs": [
    {
     "name": "stdout",
     "output_type": "stream",
     "text": [
      "tensor([2, 3, 4, 5, 6])\n"
     ]
    }
   ],
   "source": [
    "print(v[1:])"
   ]
  },
  {
   "cell_type": "code",
   "execution_count": 16,
   "id": "6db24264-63c1-41d3-ab68-dff3253e4b26",
   "metadata": {},
   "outputs": [
    {
     "name": "stdout",
     "output_type": "stream",
     "text": [
      "tensor([2, 4, 6])\n"
     ]
    }
   ],
   "source": [
    "print(v[1::2])"
   ]
  },
  {
   "cell_type": "code",
   "execution_count": 17,
   "id": "76a4481a-c924-467b-8bba-1b15c7dcdd16",
   "metadata": {},
   "outputs": [],
   "source": [
    "f = torch.FloatTensor([1,2,3,4,5,6])"
   ]
  },
  {
   "cell_type": "code",
   "execution_count": 18,
   "id": "6f10fe87-e5ae-460d-a4db-37e21d07810f",
   "metadata": {},
   "outputs": [
    {
     "data": {
      "text/plain": [
       "tensor([1., 2., 3., 4., 5., 6.])"
      ]
     },
     "execution_count": 18,
     "metadata": {},
     "output_type": "execute_result"
    }
   ],
   "source": [
    "f"
   ]
  },
  {
   "cell_type": "code",
   "execution_count": 19,
   "id": "cd4f7d26-3365-419a-b6b8-6ba05758c92e",
   "metadata": {},
   "outputs": [
    {
     "data": {
      "text/plain": [
       "tensor([[1],\n",
       "        [2],\n",
       "        [3],\n",
       "        [4],\n",
       "        [5],\n",
       "        [6]])"
      ]
     },
     "execution_count": 19,
     "metadata": {},
     "output_type": "execute_result"
    }
   ],
   "source": [
    "v.view(6,1)"
   ]
  },
  {
   "cell_type": "code",
   "execution_count": 20,
   "id": "bc2d8cad-e38e-465a-ab5c-03db7914fe23",
   "metadata": {},
   "outputs": [
    {
     "data": {
      "text/plain": [
       "tensor([[1, 2],\n",
       "        [3, 4],\n",
       "        [5, 6]])"
      ]
     },
     "execution_count": 20,
     "metadata": {},
     "output_type": "execute_result"
    }
   ],
   "source": [
    "v.view(3,-1)"
   ]
  },
  {
   "cell_type": "code",
   "execution_count": 1,
   "id": "9864577b-0c9c-4937-b299-e5f25b1fcb13",
   "metadata": {},
   "outputs": [],
   "source": [
    "import numpy as np"
   ]
  },
  {
   "cell_type": "code",
   "execution_count": 23,
   "id": "c7408748-5a14-4459-b70a-5718e43bad99",
   "metadata": {},
   "outputs": [],
   "source": [
    "a = np.array([1,2,3,4,5])"
   ]
  },
  {
   "cell_type": "code",
   "execution_count": 24,
   "id": "25876582-ad00-4eb4-80ce-4a0d40e1eb54",
   "metadata": {},
   "outputs": [],
   "source": [
    "tensor_cnv = torch.from_numpy(a)"
   ]
  },
  {
   "cell_type": "code",
   "execution_count": 25,
   "id": "f2881f10-f97e-4d36-8224-3775707f3d93",
   "metadata": {},
   "outputs": [
    {
     "data": {
      "text/plain": [
       "tensor([1, 2, 3, 4, 5], dtype=torch.int32)"
      ]
     },
     "execution_count": 25,
     "metadata": {},
     "output_type": "execute_result"
    }
   ],
   "source": [
    "tensor_cnv"
   ]
  },
  {
   "cell_type": "code",
   "execution_count": 26,
   "id": "f6f7e5f7-cf41-4c8c-9649-0fd62f109750",
   "metadata": {},
   "outputs": [],
   "source": [
    "#basic vector operations\n",
    "t_one = torch.tensor([1,2,3])"
   ]
  },
  {
   "cell_type": "code",
   "execution_count": 28,
   "id": "50752854-413f-4b68-8460-c6fafa527a81",
   "metadata": {},
   "outputs": [],
   "source": [
    "t_two = torch.tensor([1,2,3])"
   ]
  },
  {
   "cell_type": "code",
   "execution_count": 29,
   "id": "0a677d2d-1563-4464-b7fd-66f797a96d87",
   "metadata": {},
   "outputs": [
    {
     "data": {
      "text/plain": [
       "tensor([2, 4, 6])"
      ]
     },
     "execution_count": 29,
     "metadata": {},
     "output_type": "execute_result"
    }
   ],
   "source": [
    "t_one+t_two"
   ]
  },
  {
   "cell_type": "code",
   "execution_count": 33,
   "id": "5cd9cdda-64b6-4943-a186-76980f9c14ce",
   "metadata": {},
   "outputs": [
    {
     "name": "stdout",
     "output_type": "stream",
     "text": [
      "tensor([ 0.0000,  0.1010,  0.2020,  0.3030,  0.4040,  0.5051,  0.6061,  0.7071,\n",
      "         0.8081,  0.9091,  1.0101,  1.1111,  1.2121,  1.3131,  1.4141,  1.5152,\n",
      "         1.6162,  1.7172,  1.8182,  1.9192,  2.0202,  2.1212,  2.2222,  2.3232,\n",
      "         2.4242,  2.5253,  2.6263,  2.7273,  2.8283,  2.9293,  3.0303,  3.1313,\n",
      "         3.2323,  3.3333,  3.4343,  3.5354,  3.6364,  3.7374,  3.8384,  3.9394,\n",
      "         4.0404,  4.1414,  4.2424,  4.3434,  4.4444,  4.5455,  4.6465,  4.7475,\n",
      "         4.8485,  4.9495,  5.0505,  5.1515,  5.2525,  5.3535,  5.4545,  5.5556,\n",
      "         5.6566,  5.7576,  5.8586,  5.9596,  6.0606,  6.1616,  6.2626,  6.3636,\n",
      "         6.4646,  6.5657,  6.6667,  6.7677,  6.8687,  6.9697,  7.0707,  7.1717,\n",
      "         7.2727,  7.3737,  7.4747,  7.5758,  7.6768,  7.7778,  7.8788,  7.9798,\n",
      "         8.0808,  8.1818,  8.2828,  8.3838,  8.4848,  8.5859,  8.6869,  8.7879,\n",
      "         8.8889,  8.9899,  9.0909,  9.1919,  9.2929,  9.3939,  9.4949,  9.5960,\n",
      "         9.6970,  9.7980,  9.8990, 10.0000])\n"
     ]
    }
   ],
   "source": [
    "import torch\n",
    "\n",
    "start = 0\n",
    "end = 10\n",
    "steps = 100  # specify the number of steps\n",
    "\n",
    "linspace_tensor = torch.linspace(start, end, steps)\n",
    "print(linspace_tensor)\n"
   ]
  },
  {
   "cell_type": "code",
   "execution_count": 36,
   "id": "daf74cec-904f-4de5-a906-eb1a05ae6656",
   "metadata": {},
   "outputs": [
    {
     "data": {
      "text/plain": [
       "tensor([ 0.0000,  0.0200,  0.0401,  0.0601,  0.0802,  0.1002,  0.1202,  0.1403,\n",
       "         0.1603,  0.1804,  0.2004,  0.2204,  0.2405,  0.2605,  0.2806,  0.3006,\n",
       "         0.3206,  0.3407,  0.3607,  0.3808,  0.4008,  0.4208,  0.4409,  0.4609,\n",
       "         0.4810,  0.5010,  0.5210,  0.5411,  0.5611,  0.5812,  0.6012,  0.6212,\n",
       "         0.6413,  0.6613,  0.6814,  0.7014,  0.7214,  0.7415,  0.7615,  0.7816,\n",
       "         0.8016,  0.8216,  0.8417,  0.8617,  0.8818,  0.9018,  0.9218,  0.9419,\n",
       "         0.9619,  0.9820,  1.0020,  1.0220,  1.0421,  1.0621,  1.0822,  1.1022,\n",
       "         1.1222,  1.1423,  1.1623,  1.1824,  1.2024,  1.2224,  1.2425,  1.2625,\n",
       "         1.2826,  1.3026,  1.3226,  1.3427,  1.3627,  1.3828,  1.4028,  1.4228,\n",
       "         1.4429,  1.4629,  1.4830,  1.5030,  1.5230,  1.5431,  1.5631,  1.5832,\n",
       "         1.6032,  1.6232,  1.6433,  1.6633,  1.6834,  1.7034,  1.7234,  1.7435,\n",
       "         1.7635,  1.7836,  1.8036,  1.8236,  1.8437,  1.8637,  1.8838,  1.9038,\n",
       "         1.9238,  1.9439,  1.9639,  1.9840,  2.0040,  2.0240,  2.0441,  2.0641,\n",
       "         2.0842,  2.1042,  2.1242,  2.1443,  2.1643,  2.1844,  2.2044,  2.2244,\n",
       "         2.2445,  2.2645,  2.2846,  2.3046,  2.3246,  2.3447,  2.3647,  2.3848,\n",
       "         2.4048,  2.4248,  2.4449,  2.4649,  2.4850,  2.5050,  2.5251,  2.5451,\n",
       "         2.5651,  2.5852,  2.6052,  2.6253,  2.6453,  2.6653,  2.6854,  2.7054,\n",
       "         2.7255,  2.7455,  2.7655,  2.7856,  2.8056,  2.8257,  2.8457,  2.8657,\n",
       "         2.8858,  2.9058,  2.9259,  2.9459,  2.9659,  2.9860,  3.0060,  3.0261,\n",
       "         3.0461,  3.0661,  3.0862,  3.1062,  3.1263,  3.1463,  3.1663,  3.1864,\n",
       "         3.2064,  3.2265,  3.2465,  3.2665,  3.2866,  3.3066,  3.3267,  3.3467,\n",
       "         3.3667,  3.3868,  3.4068,  3.4269,  3.4469,  3.4669,  3.4870,  3.5070,\n",
       "         3.5271,  3.5471,  3.5671,  3.5872,  3.6072,  3.6273,  3.6473,  3.6673,\n",
       "         3.6874,  3.7074,  3.7275,  3.7475,  3.7675,  3.7876,  3.8076,  3.8277,\n",
       "         3.8477,  3.8677,  3.8878,  3.9078,  3.9279,  3.9479,  3.9679,  3.9880,\n",
       "         4.0080,  4.0281,  4.0481,  4.0681,  4.0882,  4.1082,  4.1283,  4.1483,\n",
       "         4.1683,  4.1884,  4.2084,  4.2285,  4.2485,  4.2685,  4.2886,  4.3086,\n",
       "         4.3287,  4.3487,  4.3687,  4.3888,  4.4088,  4.4289,  4.4489,  4.4689,\n",
       "         4.4890,  4.5090,  4.5291,  4.5491,  4.5691,  4.5892,  4.6092,  4.6293,\n",
       "         4.6493,  4.6693,  4.6894,  4.7094,  4.7295,  4.7495,  4.7695,  4.7896,\n",
       "         4.8096,  4.8297,  4.8497,  4.8697,  4.8898,  4.9098,  4.9299,  4.9499,\n",
       "         4.9699,  4.9900,  5.0100,  5.0301,  5.0501,  5.0701,  5.0902,  5.1102,\n",
       "         5.1303,  5.1503,  5.1703,  5.1904,  5.2104,  5.2305,  5.2505,  5.2705,\n",
       "         5.2906,  5.3106,  5.3307,  5.3507,  5.3707,  5.3908,  5.4108,  5.4309,\n",
       "         5.4509,  5.4709,  5.4910,  5.5110,  5.5311,  5.5511,  5.5711,  5.5912,\n",
       "         5.6112,  5.6313,  5.6513,  5.6713,  5.6914,  5.7114,  5.7315,  5.7515,\n",
       "         5.7715,  5.7916,  5.8116,  5.8317,  5.8517,  5.8717,  5.8918,  5.9118,\n",
       "         5.9319,  5.9519,  5.9719,  5.9920,  6.0120,  6.0321,  6.0521,  6.0721,\n",
       "         6.0922,  6.1122,  6.1323,  6.1523,  6.1723,  6.1924,  6.2124,  6.2325,\n",
       "         6.2525,  6.2725,  6.2926,  6.3126,  6.3327,  6.3527,  6.3727,  6.3928,\n",
       "         6.4128,  6.4329,  6.4529,  6.4729,  6.4930,  6.5130,  6.5331,  6.5531,\n",
       "         6.5731,  6.5932,  6.6132,  6.6333,  6.6533,  6.6733,  6.6934,  6.7134,\n",
       "         6.7335,  6.7535,  6.7735,  6.7936,  6.8136,  6.8337,  6.8537,  6.8737,\n",
       "         6.8938,  6.9138,  6.9339,  6.9539,  6.9739,  6.9940,  7.0140,  7.0341,\n",
       "         7.0541,  7.0741,  7.0942,  7.1142,  7.1343,  7.1543,  7.1743,  7.1944,\n",
       "         7.2144,  7.2345,  7.2545,  7.2745,  7.2946,  7.3146,  7.3347,  7.3547,\n",
       "         7.3747,  7.3948,  7.4148,  7.4349,  7.4549,  7.4749,  7.4950,  7.5150,\n",
       "         7.5351,  7.5551,  7.5752,  7.5952,  7.6152,  7.6353,  7.6553,  7.6754,\n",
       "         7.6954,  7.7154,  7.7355,  7.7555,  7.7756,  7.7956,  7.8156,  7.8357,\n",
       "         7.8557,  7.8758,  7.8958,  7.9158,  7.9359,  7.9559,  7.9760,  7.9960,\n",
       "         8.0160,  8.0361,  8.0561,  8.0762,  8.0962,  8.1162,  8.1363,  8.1563,\n",
       "         8.1764,  8.1964,  8.2164,  8.2365,  8.2565,  8.2766,  8.2966,  8.3166,\n",
       "         8.3367,  8.3567,  8.3768,  8.3968,  8.4168,  8.4369,  8.4569,  8.4770,\n",
       "         8.4970,  8.5170,  8.5371,  8.5571,  8.5772,  8.5972,  8.6172,  8.6373,\n",
       "         8.6573,  8.6774,  8.6974,  8.7174,  8.7375,  8.7575,  8.7776,  8.7976,\n",
       "         8.8176,  8.8377,  8.8577,  8.8778,  8.8978,  8.9178,  8.9379,  8.9579,\n",
       "         8.9780,  8.9980,  9.0180,  9.0381,  9.0581,  9.0782,  9.0982,  9.1182,\n",
       "         9.1383,  9.1583,  9.1784,  9.1984,  9.2184,  9.2385,  9.2585,  9.2786,\n",
       "         9.2986,  9.3186,  9.3387,  9.3587,  9.3788,  9.3988,  9.4188,  9.4389,\n",
       "         9.4589,  9.4790,  9.4990,  9.5190,  9.5391,  9.5591,  9.5792,  9.5992,\n",
       "         9.6192,  9.6393,  9.6593,  9.6794,  9.6994,  9.7194,  9.7395,  9.7595,\n",
       "         9.7796,  9.7996,  9.8196,  9.8397,  9.8597,  9.8798,  9.8998,  9.9198,\n",
       "         9.9399,  9.9599,  9.9800, 10.0000])"
      ]
     },
     "execution_count": 36,
     "metadata": {},
     "output_type": "execute_result"
    }
   ],
   "source": [
    "torch.linspace(0,10,500)"
   ]
  },
  {
   "cell_type": "code",
   "execution_count": 40,
   "id": "778c96da-1e33-48ae-9d4b-4326d5434c36",
   "metadata": {},
   "outputs": [],
   "source": [
    "import matplotlib.pyplot as plt"
   ]
  },
  {
   "cell_type": "code",
   "execution_count": 44,
   "id": "d732bc73-6072-4614-b335-86d99a7f29e3",
   "metadata": {},
   "outputs": [],
   "source": [
    "x = torch.linspace(0,10,100)\n",
    "y = torch.sin(x)"
   ]
  },
  {
   "cell_type": "code",
   "execution_count": 45,
   "id": "e9bc7437-3683-4a62-a437-c640bd96618d",
   "metadata": {},
   "outputs": [
    {
     "ename": "TypeError",
     "evalue": "float() argument must be a string or a real number, not 'builtin_function_or_method'",
     "output_type": "error",
     "traceback": [
      "\u001b[1;31m---------------------------------------------------------------------------\u001b[0m",
      "\u001b[1;31mTypeError\u001b[0m                                 Traceback (most recent call last)",
      "Cell \u001b[1;32mIn[45], line 1\u001b[0m\n\u001b[1;32m----> 1\u001b[0m plt\u001b[38;5;241m.\u001b[39mplot(x\u001b[38;5;241m.\u001b[39mnumpy, y\u001b[38;5;241m.\u001b[39mnumpy)\n",
      "File \u001b[1;32m~\\anaconda3\\Lib\\site-packages\\matplotlib\\pyplot.py:3578\u001b[0m, in \u001b[0;36mplot\u001b[1;34m(scalex, scaley, data, *args, **kwargs)\u001b[0m\n\u001b[0;32m   3570\u001b[0m \u001b[38;5;129m@_copy_docstring_and_deprecators\u001b[39m(Axes\u001b[38;5;241m.\u001b[39mplot)\n\u001b[0;32m   3571\u001b[0m \u001b[38;5;28;01mdef\u001b[39;00m \u001b[38;5;21mplot\u001b[39m(\n\u001b[0;32m   3572\u001b[0m     \u001b[38;5;241m*\u001b[39margs: \u001b[38;5;28mfloat\u001b[39m \u001b[38;5;241m|\u001b[39m ArrayLike \u001b[38;5;241m|\u001b[39m \u001b[38;5;28mstr\u001b[39m,\n\u001b[1;32m   (...)\u001b[0m\n\u001b[0;32m   3576\u001b[0m     \u001b[38;5;241m*\u001b[39m\u001b[38;5;241m*\u001b[39mkwargs,\n\u001b[0;32m   3577\u001b[0m ) \u001b[38;5;241m-\u001b[39m\u001b[38;5;241m>\u001b[39m \u001b[38;5;28mlist\u001b[39m[Line2D]:\n\u001b[1;32m-> 3578\u001b[0m     \u001b[38;5;28;01mreturn\u001b[39;00m gca()\u001b[38;5;241m.\u001b[39mplot(\n\u001b[0;32m   3579\u001b[0m         \u001b[38;5;241m*\u001b[39margs,\n\u001b[0;32m   3580\u001b[0m         scalex\u001b[38;5;241m=\u001b[39mscalex,\n\u001b[0;32m   3581\u001b[0m         scaley\u001b[38;5;241m=\u001b[39mscaley,\n\u001b[0;32m   3582\u001b[0m         \u001b[38;5;241m*\u001b[39m\u001b[38;5;241m*\u001b[39m({\u001b[38;5;124m\"\u001b[39m\u001b[38;5;124mdata\u001b[39m\u001b[38;5;124m\"\u001b[39m: data} \u001b[38;5;28;01mif\u001b[39;00m data \u001b[38;5;129;01mis\u001b[39;00m \u001b[38;5;129;01mnot\u001b[39;00m \u001b[38;5;28;01mNone\u001b[39;00m \u001b[38;5;28;01melse\u001b[39;00m {}),\n\u001b[0;32m   3583\u001b[0m         \u001b[38;5;241m*\u001b[39m\u001b[38;5;241m*\u001b[39mkwargs,\n\u001b[0;32m   3584\u001b[0m     )\n",
      "File \u001b[1;32m~\\anaconda3\\Lib\\site-packages\\matplotlib\\axes\\_axes.py:1723\u001b[0m, in \u001b[0;36mAxes.plot\u001b[1;34m(self, scalex, scaley, data, *args, **kwargs)\u001b[0m\n\u001b[0;32m   1721\u001b[0m lines \u001b[38;5;241m=\u001b[39m [\u001b[38;5;241m*\u001b[39m\u001b[38;5;28mself\u001b[39m\u001b[38;5;241m.\u001b[39m_get_lines(\u001b[38;5;28mself\u001b[39m, \u001b[38;5;241m*\u001b[39margs, data\u001b[38;5;241m=\u001b[39mdata, \u001b[38;5;241m*\u001b[39m\u001b[38;5;241m*\u001b[39mkwargs)]\n\u001b[0;32m   1722\u001b[0m \u001b[38;5;28;01mfor\u001b[39;00m line \u001b[38;5;129;01min\u001b[39;00m lines:\n\u001b[1;32m-> 1723\u001b[0m     \u001b[38;5;28mself\u001b[39m\u001b[38;5;241m.\u001b[39madd_line(line)\n\u001b[0;32m   1724\u001b[0m \u001b[38;5;28;01mif\u001b[39;00m scalex:\n\u001b[0;32m   1725\u001b[0m     \u001b[38;5;28mself\u001b[39m\u001b[38;5;241m.\u001b[39m_request_autoscale_view(\u001b[38;5;124m\"\u001b[39m\u001b[38;5;124mx\u001b[39m\u001b[38;5;124m\"\u001b[39m)\n",
      "File \u001b[1;32m~\\anaconda3\\Lib\\site-packages\\matplotlib\\axes\\_base.py:2309\u001b[0m, in \u001b[0;36m_AxesBase.add_line\u001b[1;34m(self, line)\u001b[0m\n\u001b[0;32m   2306\u001b[0m \u001b[38;5;28;01mif\u001b[39;00m line\u001b[38;5;241m.\u001b[39mget_clip_path() \u001b[38;5;129;01mis\u001b[39;00m \u001b[38;5;28;01mNone\u001b[39;00m:\n\u001b[0;32m   2307\u001b[0m     line\u001b[38;5;241m.\u001b[39mset_clip_path(\u001b[38;5;28mself\u001b[39m\u001b[38;5;241m.\u001b[39mpatch)\n\u001b[1;32m-> 2309\u001b[0m \u001b[38;5;28mself\u001b[39m\u001b[38;5;241m.\u001b[39m_update_line_limits(line)\n\u001b[0;32m   2310\u001b[0m \u001b[38;5;28;01mif\u001b[39;00m \u001b[38;5;129;01mnot\u001b[39;00m line\u001b[38;5;241m.\u001b[39mget_label():\n\u001b[0;32m   2311\u001b[0m     line\u001b[38;5;241m.\u001b[39mset_label(\u001b[38;5;124mf\u001b[39m\u001b[38;5;124m'\u001b[39m\u001b[38;5;124m_child\u001b[39m\u001b[38;5;132;01m{\u001b[39;00m\u001b[38;5;28mlen\u001b[39m(\u001b[38;5;28mself\u001b[39m\u001b[38;5;241m.\u001b[39m_children)\u001b[38;5;132;01m}\u001b[39;00m\u001b[38;5;124m'\u001b[39m)\n",
      "File \u001b[1;32m~\\anaconda3\\Lib\\site-packages\\matplotlib\\axes\\_base.py:2332\u001b[0m, in \u001b[0;36m_AxesBase._update_line_limits\u001b[1;34m(self, line)\u001b[0m\n\u001b[0;32m   2328\u001b[0m \u001b[38;5;28;01mdef\u001b[39;00m \u001b[38;5;21m_update_line_limits\u001b[39m(\u001b[38;5;28mself\u001b[39m, line):\n\u001b[0;32m   2329\u001b[0m \u001b[38;5;250m    \u001b[39m\u001b[38;5;124;03m\"\"\"\u001b[39;00m\n\u001b[0;32m   2330\u001b[0m \u001b[38;5;124;03m    Figures out the data limit of the given line, updating self.dataLim.\u001b[39;00m\n\u001b[0;32m   2331\u001b[0m \u001b[38;5;124;03m    \"\"\"\u001b[39;00m\n\u001b[1;32m-> 2332\u001b[0m     path \u001b[38;5;241m=\u001b[39m line\u001b[38;5;241m.\u001b[39mget_path()\n\u001b[0;32m   2333\u001b[0m     \u001b[38;5;28;01mif\u001b[39;00m path\u001b[38;5;241m.\u001b[39mvertices\u001b[38;5;241m.\u001b[39msize \u001b[38;5;241m==\u001b[39m \u001b[38;5;241m0\u001b[39m:\n\u001b[0;32m   2334\u001b[0m         \u001b[38;5;28;01mreturn\u001b[39;00m\n",
      "File \u001b[1;32m~\\anaconda3\\Lib\\site-packages\\matplotlib\\lines.py:1032\u001b[0m, in \u001b[0;36mLine2D.get_path\u001b[1;34m(self)\u001b[0m\n\u001b[0;32m   1030\u001b[0m \u001b[38;5;250m\u001b[39m\u001b[38;5;124;03m\"\"\"Return the `~matplotlib.path.Path` associated with this line.\"\"\"\u001b[39;00m\n\u001b[0;32m   1031\u001b[0m \u001b[38;5;28;01mif\u001b[39;00m \u001b[38;5;28mself\u001b[39m\u001b[38;5;241m.\u001b[39m_invalidy \u001b[38;5;129;01mor\u001b[39;00m \u001b[38;5;28mself\u001b[39m\u001b[38;5;241m.\u001b[39m_invalidx:\n\u001b[1;32m-> 1032\u001b[0m     \u001b[38;5;28mself\u001b[39m\u001b[38;5;241m.\u001b[39mrecache()\n\u001b[0;32m   1033\u001b[0m \u001b[38;5;28;01mreturn\u001b[39;00m \u001b[38;5;28mself\u001b[39m\u001b[38;5;241m.\u001b[39m_path\n",
      "File \u001b[1;32m~\\anaconda3\\Lib\\site-packages\\matplotlib\\lines.py:669\u001b[0m, in \u001b[0;36mLine2D.recache\u001b[1;34m(self, always)\u001b[0m\n\u001b[0;32m    667\u001b[0m \u001b[38;5;28;01mif\u001b[39;00m always \u001b[38;5;129;01mor\u001b[39;00m \u001b[38;5;28mself\u001b[39m\u001b[38;5;241m.\u001b[39m_invalidx:\n\u001b[0;32m    668\u001b[0m     xconv \u001b[38;5;241m=\u001b[39m \u001b[38;5;28mself\u001b[39m\u001b[38;5;241m.\u001b[39mconvert_xunits(\u001b[38;5;28mself\u001b[39m\u001b[38;5;241m.\u001b[39m_xorig)\n\u001b[1;32m--> 669\u001b[0m     x \u001b[38;5;241m=\u001b[39m _to_unmasked_float_array(xconv)\u001b[38;5;241m.\u001b[39mravel()\n\u001b[0;32m    670\u001b[0m \u001b[38;5;28;01melse\u001b[39;00m:\n\u001b[0;32m    671\u001b[0m     x \u001b[38;5;241m=\u001b[39m \u001b[38;5;28mself\u001b[39m\u001b[38;5;241m.\u001b[39m_x\n",
      "File \u001b[1;32m~\\anaconda3\\Lib\\site-packages\\matplotlib\\cbook.py:1345\u001b[0m, in \u001b[0;36m_to_unmasked_float_array\u001b[1;34m(x)\u001b[0m\n\u001b[0;32m   1343\u001b[0m     \u001b[38;5;28;01mreturn\u001b[39;00m np\u001b[38;5;241m.\u001b[39mma\u001b[38;5;241m.\u001b[39masarray(x, \u001b[38;5;28mfloat\u001b[39m)\u001b[38;5;241m.\u001b[39mfilled(np\u001b[38;5;241m.\u001b[39mnan)\n\u001b[0;32m   1344\u001b[0m \u001b[38;5;28;01melse\u001b[39;00m:\n\u001b[1;32m-> 1345\u001b[0m     \u001b[38;5;28;01mreturn\u001b[39;00m np\u001b[38;5;241m.\u001b[39masarray(x, \u001b[38;5;28mfloat\u001b[39m)\n",
      "\u001b[1;31mTypeError\u001b[0m: float() argument must be a string or a real number, not 'builtin_function_or_method'"
     ]
    },
    {
     "data": {
      "image/png": "[encoded data removed]",
      "text/plain": [
       "<Figure size 640x480 with 1 Axes>"
      ]
     },
     "metadata": {},
     "output_type": "display_data"
    }
   ],
   "source": [
    "plt.plot(x.numpy, y.numpy)"
   ]
  },
  {
   "cell_type": "code",
   "execution_count": 47,
   "id": "c2bc39ce-6ee4-48fe-82ac-5c4cb5808625",
   "metadata": {},
   "outputs": [],
   "source": [
    "d = torch.arange(18).view(3,2,3)"
   ]
  },
  {
   "cell_type": "code",
   "execution_count": 48,
   "id": "36b6155e-347d-4d66-a4ec-fe299dfe7728",
   "metadata": {},
   "outputs": [
    {
     "data": {
      "text/plain": [
       "tensor([[[ 0,  1,  2],\n",
       "         [ 3,  4,  5]],\n",
       "\n",
       "        [[ 6,  7,  8],\n",
       "         [ 9, 10, 11]],\n",
       "\n",
       "        [[12, 13, 14],\n",
       "         [15, 16, 17]]])"
      ]
     },
     "execution_count": 48,
     "metadata": {},
     "output_type": "execute_result"
    }
   ],
   "source": [
    "d\n"
   ]
  },
  {
   "cell_type": "code",
   "execution_count": 50,
   "id": "ca37d21e-f4c2-4774-90e0-a39829c659ee",
   "metadata": {},
   "outputs": [
    {
     "data": {
      "text/plain": [
       "tensor(10)"
      ]
     },
     "execution_count": 50,
     "metadata": {},
     "output_type": "execute_result"
    }
   ],
   "source": [
    "d[1,1,1]"
   ]
  },
  {
   "cell_type": "code",
   "execution_count": 51,
   "id": "06c39c58-fa05-44e5-bcd0-026665a452cc",
   "metadata": {},
   "outputs": [
    {
     "data": {
      "text/plain": [
       "tensor(7)"
      ]
     },
     "execution_count": 51,
     "metadata": {},
     "output_type": "execute_result"
    }
   ],
   "source": [
    "d[1, 0, 1]"
   ]
  },
  {
   "cell_type": "code",
   "execution_count": 57,
   "id": "338dd763-04a5-48bf-a054-5f1c1ad10100",
   "metadata": {},
   "outputs": [
    {
     "data": {
      "text/plain": [
       "tensor(10)"
      ]
     },
     "execution_count": 57,
     "metadata": {},
     "output_type": "execute_result"
    }
   ],
   "source": [
    "d[1, 1, 1]"
   ]
  },
  {
   "cell_type": "code",
   "execution_count": 2,
   "id": "bb32f481-3fcc-443f-82ef-884f37d81cef",
   "metadata": {},
   "outputs": [],
   "source": [
    "import torch"
   ]
  },
  {
   "cell_type": "code",
   "execution_count": 3,
   "id": "ddde7d71-f45f-48e4-b12d-c7168108cd3b",
   "metadata": {},
   "outputs": [],
   "source": [
    "import torch.nn as nn\n"
   ]
  },
  {
   "cell_type": "code",
   "execution_count": 11,
   "id": "7a0fb3eb-65e6-4f38-af16-f6dbb0e83e54",
   "metadata": {},
   "outputs": [],
   "source": [
    "v = torch.tensor([1,2,3,4,5,6])"
   ]
  },
  {
   "cell_type": "code",
   "execution_count": 14,
   "id": "8de3db5f-45ba-431f-b846-c710f2c06073",
   "metadata": {},
   "outputs": [
    {
     "name": "stdout",
     "output_type": "stream",
     "text": [
      "tensor([2, 3, 4])\n"
     ]
    }
   ],
   "source": [
    "print(v[1:4])\n",
    "#stop index is exclusive"
   ]
  },
  {
   "cell_type": "code",
   "execution_count": 16,
   "id": "f8c84ae5-cbe7-496a-815d-8308b1c7b5b5",
   "metadata": {},
   "outputs": [],
   "source": [
    "f = torch.FloatTensor([1,2,3,4,5,6])"
   ]
  },
  {
   "cell_type": "code",
   "execution_count": 17,
   "id": "b6a8bac4-3830-4ae3-a0d6-da85cbea4d34",
   "metadata": {},
   "outputs": [
    {
     "name": "stdout",
     "output_type": "stream",
     "text": [
      "tensor([1., 2., 3., 4., 5., 6.])\n"
     ]
    }
   ],
   "source": [
    "print(f)"
   ]
  },
  {
   "cell_type": "code",
   "execution_count": 18,
   "id": "a7a8e952-690f-479f-895f-4167d78224b8",
   "metadata": {},
   "outputs": [
    {
     "name": "stdout",
     "output_type": "stream",
     "text": [
      "torch.Size([6])\n"
     ]
    }
   ],
   "source": [
    "print(f.size())"
   ]
  },
  {
   "cell_type": "code",
   "execution_count": 19,
   "id": "8abb076e-9cdc-4025-a803-cc4dba22066e",
   "metadata": {},
   "outputs": [
    {
     "data": {
      "text/plain": [
       "tensor([[1],\n",
       "        [2],\n",
       "        [3],\n",
       "        [4],\n",
       "        [5],\n",
       "        [6]])"
      ]
     },
     "execution_count": 19,
     "metadata": {},
     "output_type": "execute_result"
    }
   ],
   "source": [
    "v.view(6,1)"
   ]
  },
  {
   "cell_type": "code",
   "execution_count": 20,
   "id": "a15fa434-5bfc-483e-86cd-9a518078e8b3",
   "metadata": {},
   "outputs": [
    {
     "data": {
      "text/plain": [
       "tensor([[1, 2],\n",
       "        [3, 4],\n",
       "        [5, 6]])"
      ]
     },
     "execution_count": 20,
     "metadata": {},
     "output_type": "execute_result"
    }
   ],
   "source": [
    "v.view(3,2)"
   ]
  },
  {
   "cell_type": "code",
   "execution_count": 28,
   "id": "eb5538ae-7ed0-4361-9b09-f92723812a3d",
   "metadata": {},
   "outputs": [],
   "source": [
    "import numpy as np"
   ]
  },
  {
   "cell_type": "code",
   "execution_count": 29,
   "id": "9e5c625e-6966-4d24-9a07-6759ad4afe20",
   "metadata": {},
   "outputs": [],
   "source": [
    "a = np.array([1,2,3,4,5])"
   ]
  },
  {
   "cell_type": "code",
   "execution_count": 30,
   "id": "96ae8c4b-8fc2-4ad1-be6c-4c985a0c61b1",
   "metadata": {},
   "outputs": [
    {
     "name": "stdout",
     "output_type": "stream",
     "text": [
      "[1 2 3 4 5]\n"
     ]
    }
   ],
   "source": [
    "print(a)"
   ]
  },
  {
   "cell_type": "code",
   "execution_count": 31,
   "id": "cdbb9693-8f91-4b7f-ae0c-698118d413ce",
   "metadata": {},
   "outputs": [],
   "source": [
    "t = torch.from_numpy(a)"
   ]
  },
  {
   "cell_type": "code",
   "execution_count": 32,
   "id": "5675ba44-14b1-4e75-9ea0-87e8cdcd8601",
   "metadata": {},
   "outputs": [
    {
     "data": {
      "text/plain": [
       "tensor([1, 2, 3, 4, 5], dtype=torch.int32)"
      ]
     },
     "execution_count": 32,
     "metadata": {},
     "output_type": "execute_result"
    }
   ],
   "source": [
    "t\n"
   ]
  },
  {
   "cell_type": "code",
   "execution_count": 33,
   "id": "ad4cbfea-05a4-4715-b77e-2d9bae3cb551",
   "metadata": {},
   "outputs": [],
   "source": [
    "#vector operations in tensor"
   ]
  },
  {
   "cell_type": "code",
   "execution_count": 27,
   "id": "12724874-f9f1-4070-a3e3-08ef8e705697",
   "metadata": {},
   "outputs": [
    {
     "ename": "TypeError",
     "evalue": "tensor() takes 1 positional argument but 3 were given",
     "output_type": "error",
     "traceback": [
      "\u001b[1;31m---------------------------------------------------------------------------\u001b[0m",
      "\u001b[1;31mTypeError\u001b[0m                                 Traceback (most recent call last)",
      "Cell \u001b[1;32mIn[27], line 1\u001b[0m\n\u001b[1;32m----> 1\u001b[0m t1 \u001b[38;5;241m=\u001b[39m torch\u001b[38;5;241m.\u001b[39mtensor(\u001b[38;5;241m1\u001b[39m,\u001b[38;5;241m2\u001b[39m,\u001b[38;5;241m3\u001b[39m)\n",
      "\u001b[1;31mTypeError\u001b[0m: tensor() takes 1 positional argument but 3 were given"
     ]
    }
   ],
   "source": [
    "t1 = torch.tensor(1,2,3)"
   ]
  },
  {
   "cell_type": "code",
   "execution_count": 37,
   "id": "c09cec98-ae24-482e-a644-edbb0b921f7e",
   "metadata": {},
   "outputs": [],
   "source": [
    "one_d = torch.arange(0,9)"
   ]
  },
  {
   "cell_type": "code",
   "execution_count": 38,
   "id": "b75e186f-4121-42f6-878d-ef9d7165cb1e",
   "metadata": {},
   "outputs": [
    {
     "data": {
      "text/plain": [
       "tensor([0, 1, 2, 3, 4, 5, 6, 7, 8])"
      ]
     },
     "execution_count": 38,
     "metadata": {},
     "output_type": "execute_result"
    }
   ],
   "source": [
    "one_d\n"
   ]
  },
  {
   "cell_type": "code",
   "execution_count": 39,
   "id": "1bf5ab7b-9efa-4ce8-b4b9-ee22cc17e364",
   "metadata": {},
   "outputs": [],
   "source": [
    "two_d = one_d.view(3,3)"
   ]
  },
  {
   "cell_type": "code",
   "execution_count": 40,
   "id": "0c4757bf-5e69-42ab-9884-bc56158dfc97",
   "metadata": {},
   "outputs": [
    {
     "data": {
      "text/plain": [
       "tensor([[0, 1, 2],\n",
       "        [3, 4, 5],\n",
       "        [6, 7, 8]])"
      ]
     },
     "execution_count": 40,
     "metadata": {},
     "output_type": "execute_result"
    }
   ],
   "source": [
    "two_d"
   ]
  },
  {
   "cell_type": "code",
   "execution_count": 41,
   "id": "bf1d76d0-cba9-49a7-b090-ce05871e620a",
   "metadata": {},
   "outputs": [
    {
     "data": {
      "text/plain": [
       "2"
      ]
     },
     "execution_count": 41,
     "metadata": {},
     "output_type": "execute_result"
    }
   ],
   "source": [
    "two_d.dim()"
   ]
  },
  {
   "cell_type": "code",
   "execution_count": 42,
   "id": "adc49429-eabf-4c55-8e8a-cf9a61ea3081",
   "metadata": {},
   "outputs": [
    {
     "data": {
      "text/plain": [
       "tensor(5)"
      ]
     },
     "execution_count": 42,
     "metadata": {},
     "output_type": "execute_result"
    }
   ],
   "source": [
    "two_d[1,2]"
   ]
  },
  {
   "cell_type": "code",
   "execution_count": 47,
   "id": "272a40d8-5df2-4c87-91cc-05c3889b5a63",
   "metadata": {},
   "outputs": [],
   "source": [
    "x = torch.arange(18).view(3,2,3)"
   ]
  },
  {
   "cell_type": "code",
   "execution_count": 56,
   "id": "15358ad6-6090-4134-9894-44820c9a9b81",
   "metadata": {},
   "outputs": [
    {
     "data": {
      "text/plain": [
       "tensor([[[ 0,  1,  2],\n",
       "         [ 3,  4,  5]],\n",
       "\n",
       "        [[ 6,  7,  8],\n",
       "         [ 9, 10, 11]],\n",
       "\n",
       "        [[12, 13, 14],\n",
       "         [15, 16, 17]]])"
      ]
     },
     "execution_count": 56,
     "metadata": {},
     "output_type": "execute_result"
    }
   ],
   "source": [
    "x "
   ]
  },
  {
   "cell_type": "code",
   "execution_count": 58,
   "id": "c2f02b30-1a51-4ae2-8c3c-467c938fbd93",
   "metadata": {},
   "outputs": [
    {
     "data": {
      "text/plain": [
       "tensor(10)"
      ]
     },
     "execution_count": 58,
     "metadata": {},
     "output_type": "execute_result"
    }
   ],
   "source": [
    "x[1,1,1]"
   ]
  },
  {
   "cell_type": "code",
   "execution_count": 59,
   "id": "d9be9b8b-3550-40ed-b30d-5a5f8062bf1a",
   "metadata": {},
   "outputs": [
    {
     "data": {
      "text/plain": [
       "tensor(0)"
      ]
     },
     "execution_count": 59,
     "metadata": {},
     "output_type": "execute_result"
    }
   ],
   "source": [
    "x[0,0,0]"
   ]
  },
  {
   "cell_type": "code",
   "execution_count": 61,
   "id": "29f13078-88b6-436b-8d70-76e2e2c6fd35",
   "metadata": {},
   "outputs": [
    {
     "data": {
      "text/plain": [
       "tensor(17)"
      ]
     },
     "execution_count": 61,
     "metadata": {},
     "output_type": "execute_result"
    }
   ],
   "source": [
    "x[2,1,2]"
   ]
  },
  {
   "cell_type": "code",
   "execution_count": 62,
   "id": "2af5b7b8-10ec-4301-a3db-13cbff7ed2d1",
   "metadata": {},
   "outputs": [
    {
     "data": {
      "text/plain": [
       "tensor([10])"
      ]
     },
     "execution_count": 62,
     "metadata": {},
     "output_type": "execute_result"
    }
   ],
   "source": [
    "x[1,1:2,1]"
   ]
  },
  {
   "cell_type": "code",
   "execution_count": 63,
   "id": "bf52caa7-4b4f-498c-ba24-d422594aaa4f",
   "metadata": {},
   "outputs": [
    {
     "data": {
      "text/plain": [
       "tensor([[12, 13, 14],\n",
       "        [15, 16, 17]])"
      ]
     },
     "execution_count": 63,
     "metadata": {},
     "output_type": "execute_result"
    }
   ],
   "source": [
    "x[2,0:2,0:3]"
   ]
  },
  {
   "cell_type": "code",
   "execution_count": 64,
   "id": "2722335a-46f8-4013-b114-d3aef3d54de7",
   "metadata": {},
   "outputs": [],
   "source": [
    "mat_a = torch.tensor([0,3,5,5,5,2]).view(1,2,3)"
   ]
  },
  {
   "cell_type": "code",
   "execution_count": 65,
   "id": "44eec0d3-f402-4f90-99d2-82445780fd06",
   "metadata": {},
   "outputs": [
    {
     "data": {
      "text/plain": [
       "tensor([[[0, 3, 5],\n",
       "         [5, 5, 2]]])"
      ]
     },
     "execution_count": 65,
     "metadata": {},
     "output_type": "execute_result"
    }
   ],
   "source": [
    "mat_a"
   ]
  },
  {
   "cell_type": "code",
   "execution_count": 67,
   "id": "fed30d8f-2d6d-466b-adf6-246ddab1234a",
   "metadata": {},
   "outputs": [
    {
     "data": {
      "text/plain": [
       "tensor([[[ 3,  4],\n",
       "         [ 3, -2],\n",
       "         [ 4, -2]]])"
      ]
     },
     "execution_count": 67,
     "metadata": {},
     "output_type": "execute_result"
    }
   ],
   "source": [
    "mat_b = torch.tensor([3,4,3,-2,4,-2]).view(1,3,2)\n",
    "mat_b"
   ]
  },
  {
   "cell_type": "code",
   "execution_count": 68,
   "id": "c8244e02-249f-49fa-bec1-503ee859c52a",
   "metadata": {},
   "outputs": [
    {
     "data": {
      "text/plain": [
       "tensor([[[ 29, -16],\n",
       "         [ 38,   6]]])"
      ]
     },
     "execution_count": 68,
     "metadata": {},
     "output_type": "execute_result"
    }
   ],
   "source": [
    "torch.matmul(mat_a,mat_b)"
   ]
  },
  {
   "cell_type": "code",
   "execution_count": 69,
   "id": "84615f7b-307c-43af-96a0-45183e8d0147",
   "metadata": {},
   "outputs": [
    {
     "data": {
      "text/plain": [
       "tensor([[[ 29, -16],\n",
       "         [ 38,   6]]])"
      ]
     },
     "execution_count": 69,
     "metadata": {},
     "output_type": "execute_result"
    }
   ],
   "source": [
    "mat_a @ mat_b"
   ]
  },
  {
   "cell_type": "code",
   "execution_count": 70,
   "id": "29fa94b2-9271-4529-93de-f07e078a898c",
   "metadata": {},
   "outputs": [],
   "source": [
    "x = torch.tensor(2.0, requires_grad = True)\n",
    "y = 9*x**4 + 2*x**3 + 3*x**2 + 6*x + 1"
   ]
  },
  {
   "cell_type": "code",
   "execution_count": 71,
   "id": "7ebfc08d-8d7a-424c-a17d-22b7a5deee31",
   "metadata": {},
   "outputs": [],
   "source": [
    "y.backward()"
   ]
  },
  {
   "cell_type": "code",
   "execution_count": 73,
   "id": "441d59db-d27b-4999-ac2d-4f740ea00cb4",
   "metadata": {},
   "outputs": [
    {
     "data": {
      "text/plain": [
       "tensor(330.)"
      ]
     },
     "execution_count": 73,
     "metadata": {},
     "output_type": "execute_result"
    }
   ],
   "source": [
    "x.grad"
   ]
  },
  {
   "cell_type": "code",
   "execution_count": 75,
   "id": "fb188426-a7d4-4d55-870a-9feea019b0bf",
   "metadata": {},
   "outputs": [],
   "source": [
    "w = torch.tensor(3.0, requires_grad = True)\n",
    "b = torch.tensor(1.0, requires_grad = True)"
   ]
  },
  {
   "cell_type": "code",
   "execution_count": 76,
   "id": "70432463-0523-4280-8820-345ccb23b737",
   "metadata": {},
   "outputs": [],
   "source": [
    "def forward(x):\n",
    "    y = w*x+b\n",
    "    return y"
   ]
  },
  {
   "cell_type": "code",
   "execution_count": 77,
   "id": "586284ca-0b52-4546-bda7-2b86947080d2",
   "metadata": {},
   "outputs": [
    {
     "data": {
      "text/plain": [
       "tensor(7., grad_fn=<AddBackward0>)"
      ]
     },
     "execution_count": 77,
     "metadata": {},
     "output_type": "execute_result"
    }
   ],
   "source": [
    "x = torch.tensor(2)\n",
    "forward(x)"
   ]
  },
  {
   "cell_type": "code",
   "execution_count": 78,
   "id": "e189ef1e-4f61-4d5c-82f1-285c85d6afc0",
   "metadata": {},
   "outputs": [],
   "source": [
    "#linear class:"
   ]
  },
  {
   "cell_type": "code",
   "execution_count": 97,
   "id": "80999b90-3465-4e50-b97f-1cf1a078ac9c",
   "metadata": {},
   "outputs": [],
   "source": [
    "import torch\n",
    "from torch.nn import Linear"
   ]
  },
  {
   "cell_type": "code",
   "execution_count": 98,
   "id": "b3cf6557-cc04-4b92-8ced-d12f0e7f3c2e",
   "metadata": {},
   "outputs": [
    {
     "name": "stdout",
     "output_type": "stream",
     "text": [
      "Parameter containing:\n",
      "tensor([-0.4414], requires_grad=True) Parameter containing:\n",
      "tensor([[0.5153]], requires_grad=True)\n"
     ]
    }
   ],
   "source": [
    "torch.manual_seed(1)\n",
    "model = Linear(in_features=1, out_features=1)\n",
    "print(model.bias, model.weight)"
   ]
  },
  {
   "cell_type": "code",
   "execution_count": 99,
   "id": "be824f7e-4512-44ac-8855-cc193ebc2dee",
   "metadata": {},
   "outputs": [
    {
     "name": "stdout",
     "output_type": "stream",
     "text": [
      "tensor([0.5891], grad_fn=<ViewBackward0>)\n"
     ]
    }
   ],
   "source": [
    "x = torch.tensor([2.0])\n",
    "print(model(x))"
   ]
  },
  {
   "cell_type": "code",
   "execution_count": 100,
   "id": "6518eafc-d1dd-4137-9fa5-0234bfb4ce9e",
   "metadata": {},
   "outputs": [],
   "source": [
    "#now to look at custom modules\n",
    "import torch\n",
    "import torch.nn as nn\n",
    "class LR(nn.Module): \n",
    "    def __init__(self,input_size, output_size):#constuctor to initialize new instances\n",
    "        super().__init__()\n",
    "        self.linear = nn.Linear(input_size, output_size)"
   ]
  },
  {
   "cell_type": "code",
   "execution_count": 101,
   "id": "3e0979a4-4d9f-4255-afdb-50fd35ff5419",
   "metadata": {},
   "outputs": [],
   "source": [
    "torch.manual_seed(1)\n",
    "model = LR(1,1)\n"
   ]
  },
  {
   "cell_type": "code",
   "execution_count": 102,
   "id": "1e2b1676-1c42-4bec-9865-b7771e3a0b5c",
   "metadata": {},
   "outputs": [
    {
     "ename": "NotImplementedError",
     "evalue": "Module [LR] is missing the required \"forward\" function",
     "output_type": "error",
     "traceback": [
      "\u001b[1;31m---------------------------------------------------------------------------\u001b[0m",
      "\u001b[1;31mNotImplementedError\u001b[0m                       Traceback (most recent call last)",
      "Cell \u001b[1;32mIn[102], line 2\u001b[0m\n\u001b[0;32m      1\u001b[0m x \u001b[38;5;241m=\u001b[39m torch\u001b[38;5;241m.\u001b[39mtensor([[\u001b[38;5;241m1.0\u001b[39m],[\u001b[38;5;241m2.0\u001b[39m]])\n\u001b[1;32m----> 2\u001b[0m \u001b[38;5;28mprint\u001b[39m(model\u001b[38;5;241m.\u001b[39mforward(x))\n",
      "File \u001b[1;32m~\\anaconda3\\Lib\\site-packages\\torch\\nn\\modules\\module.py:351\u001b[0m, in \u001b[0;36m_forward_unimplemented\u001b[1;34m(self, *input)\u001b[0m\n\u001b[0;32m    340\u001b[0m \u001b[38;5;28;01mdef\u001b[39;00m \u001b[38;5;21m_forward_unimplemented\u001b[39m(\u001b[38;5;28mself\u001b[39m, \u001b[38;5;241m*\u001b[39m\u001b[38;5;28minput\u001b[39m: Any) \u001b[38;5;241m-\u001b[39m\u001b[38;5;241m>\u001b[39m \u001b[38;5;28;01mNone\u001b[39;00m:\n\u001b[0;32m    341\u001b[0m \u001b[38;5;250m    \u001b[39m\u001b[38;5;124mr\u001b[39m\u001b[38;5;124;03m\"\"\"Define the computation performed at every call.\u001b[39;00m\n\u001b[0;32m    342\u001b[0m \n\u001b[0;32m    343\u001b[0m \u001b[38;5;124;03m    Should be overridden by all subclasses.\u001b[39;00m\n\u001b[1;32m   (...)\u001b[0m\n\u001b[0;32m    349\u001b[0m \u001b[38;5;124;03m        registered hooks while the latter silently ignores them.\u001b[39;00m\n\u001b[0;32m    350\u001b[0m \u001b[38;5;124;03m    \"\"\"\u001b[39;00m\n\u001b[1;32m--> 351\u001b[0m     \u001b[38;5;28;01mraise\u001b[39;00m \u001b[38;5;167;01mNotImplementedError\u001b[39;00m(\u001b[38;5;124mf\u001b[39m\u001b[38;5;124m\"\u001b[39m\u001b[38;5;124mModule [\u001b[39m\u001b[38;5;132;01m{\u001b[39;00m\u001b[38;5;28mtype\u001b[39m(\u001b[38;5;28mself\u001b[39m)\u001b[38;5;241m.\u001b[39m\u001b[38;5;18m__name__\u001b[39m\u001b[38;5;132;01m}\u001b[39;00m\u001b[38;5;124m] is missing the required \u001b[39m\u001b[38;5;130;01m\\\"\u001b[39;00m\u001b[38;5;124mforward\u001b[39m\u001b[38;5;130;01m\\\"\u001b[39;00m\u001b[38;5;124m function\u001b[39m\u001b[38;5;124m\"\u001b[39m)\n",
      "\u001b[1;31mNotImplementedError\u001b[0m: Module [LR] is missing the required \"forward\" function"
     ]
    }
   ],
   "source": [
    "x = torch.tensor([[1.0],[2.0]])\n",
    "print(model.forward(x))"
   ]
  },
  {
   "cell_type": "code",
   "execution_count": 146,
   "id": "ca3fffa8-e4c6-4462-8839-ee87703362e4",
   "metadata": {},
   "outputs": [
    {
     "data": {
      "text/plain": [
       "Text(0.5, 0, 'x')"
      ]
     },
     "execution_count": 146,
     "metadata": {},
     "output_type": "execute_result"
    },
    {
     "data": {
      "image/png": "[encoded data removed]",
      "text/plain": [
       "<Figure size 640x480 with 1 Axes>"
      ]
     },
     "metadata": {},
     "output_type": "display_data"
    }
   ],
   "source": [
    "import matplotlib.pyplot as plt\n",
    "\n",
    "x = torch.randn(100,1)*10\n",
    "y = x + torch.randn(100,1)\n",
    "plt.plot(x.numpy(),y.numpy(),'o')\n",
    "plt.ylabel('y')\n",
    "plt.xlabel('x')"
   ]
  },
  {
   "cell_type": "code",
   "execution_count": 114,
   "id": "1e94c696-6eb1-45bb-959f-04a986b08d36",
   "metadata": {},
   "outputs": [
    {
     "name": "stdout",
     "output_type": "stream",
     "text": [
      "tensor([[ 3.5555e-02],\n",
      "        [-2.3826e+00],\n",
      "        [-1.8412e+01],\n",
      "        [-6.1972e+00],\n",
      "        [-1.1801e+01],\n",
      "        [-8.5096e+00],\n",
      "        [ 1.2851e+01],\n",
      "        [-1.2276e+01],\n",
      "        [ 9.6200e+00],\n",
      "        [-1.6931e+01],\n",
      "        [-7.1018e+00],\n",
      "        [ 2.8641e+01],\n",
      "        [ 1.0953e+01],\n",
      "        [ 7.7987e+00],\n",
      "        [ 1.7714e+01],\n",
      "        [ 1.7485e+01],\n",
      "        [-1.1020e+01],\n",
      "        [ 1.5297e+01],\n",
      "        [-2.6117e+00],\n",
      "        [-6.1217e-03],\n",
      "        [ 1.5526e+01],\n",
      "        [-9.2554e+00],\n",
      "        [-8.4613e+00],\n",
      "        [ 1.5879e+00],\n",
      "        [ 9.9620e+00],\n",
      "        [-1.3022e+01],\n",
      "        [-1.2149e+01],\n",
      "        [ 1.7847e+00],\n",
      "        [ 6.9572e+00],\n",
      "        [ 3.1242e-01],\n",
      "        [-2.2674e+01],\n",
      "        [ 9.3775e-01],\n",
      "        [ 1.4156e-01],\n",
      "        [-6.4142e+00],\n",
      "        [ 8.7677e+00],\n",
      "        [ 1.4545e+01],\n",
      "        [ 3.7237e-01],\n",
      "        [ 9.6609e+00],\n",
      "        [ 1.9585e+00],\n",
      "        [-9.5072e+00],\n",
      "        [ 4.1236e+00],\n",
      "        [-9.7460e+00],\n",
      "        [ 4.9444e+00],\n",
      "        [ 1.1529e+01],\n",
      "        [ 1.7298e+00],\n",
      "        [ 3.9719e+00],\n",
      "        [-4.4768e+00],\n",
      "        [ 4.5878e+00],\n",
      "        [ 7.0676e+00],\n",
      "        [-1.8458e+01],\n",
      "        [-8.0106e+00],\n",
      "        [-1.5776e+01],\n",
      "        [-9.1714e+00],\n",
      "        [-2.3112e+00],\n",
      "        [ 1.0470e+01],\n",
      "        [-1.5918e+01],\n",
      "        [ 5.5552e-01],\n",
      "        [-6.2612e+00],\n",
      "        [-5.7936e+00],\n",
      "        [-5.9484e+00],\n",
      "        [ 7.1444e-01],\n",
      "        [ 3.4204e+00],\n",
      "        [ 8.8663e+00],\n",
      "        [-8.9544e+00],\n",
      "        [ 8.4755e-01],\n",
      "        [ 2.6196e+00],\n",
      "        [-9.1017e+00],\n",
      "        [-1.4234e+00],\n",
      "        [ 2.9891e+00],\n",
      "        [ 1.4571e+01],\n",
      "        [ 2.3037e+00],\n",
      "        [-1.4793e+00],\n",
      "        [-5.9290e+00],\n",
      "        [-3.3637e+00],\n",
      "        [-3.2089e-01],\n",
      "        [-5.6836e+00],\n",
      "        [-1.4244e+01],\n",
      "        [-1.3247e+01],\n",
      "        [-2.0823e+01],\n",
      "        [-6.3228e+00],\n",
      "        [-5.4497e+00],\n",
      "        [ 3.1158e+00],\n",
      "        [ 5.9308e+00],\n",
      "        [ 1.8194e+01],\n",
      "        [ 1.3760e+01],\n",
      "        [ 1.4397e+01],\n",
      "        [-2.2479e+01],\n",
      "        [ 1.3209e+01],\n",
      "        [-5.3911e+00],\n",
      "        [ 3.8984e+00],\n",
      "        [-5.0990e+00],\n",
      "        [ 1.2649e+01],\n",
      "        [ 2.4737e+00],\n",
      "        [-1.4464e+01],\n",
      "        [-1.2147e+01],\n",
      "        [ 2.8860e+00],\n",
      "        [-8.5133e+00],\n",
      "        [-8.6620e+00],\n",
      "        [-1.2165e+01],\n",
      "        [-8.2367e+00]])\n"
     ]
    }
   ],
   "source": [
    "print(x)"
   ]
  },
  {
   "cell_type": "code",
   "execution_count": 147,
   "id": "12ffd82f-e539-423d-b517-fa97d5b1a5bb",
   "metadata": {},
   "outputs": [],
   "source": [
    "#now to look at custom modules\n",
    "import torch\n",
    "import torch.nn as nn\n",
    "class LR(nn.Module): \n",
    "    def __init__(self,input_size, output_size):#constuctor to initialize new instances\n",
    "        super().__init__()\n",
    "        self.linear = nn.Linear(input_size, output_size)\n",
    "    def forward(self,x):\n",
    "        pred = self.linear(x)\n",
    "        return pred\n",
    "        "
   ]
  },
  {
   "cell_type": "code",
   "execution_count": 148,
   "id": "beb757bf-e3d7-437d-ba86-5a1c3936d1b3",
   "metadata": {},
   "outputs": [],
   "source": [
    "torch.manual_seed(1)\n",
    "model = LR(1,1)"
   ]
  },
  {
   "cell_type": "code",
   "execution_count": 149,
   "id": "6edc0f63-2118-4577-8dda-97519c962df4",
   "metadata": {},
   "outputs": [],
   "source": [
    "parameters = list(model.parameters())\n",
    "\n",
    "# Assuming your model has exactly two parameters to unpack\n",
    "[w, b] = parameters\n",
    "    "
   ]
  },
  {
   "cell_type": "code",
   "execution_count": 150,
   "id": "28d5bcac-4b03-47e0-a84b-bd3fd0e86651",
   "metadata": {},
   "outputs": [
    {
     "name": "stdout",
     "output_type": "stream",
     "text": [
      "Parameter containing:\n",
      "tensor([[0.5153]], requires_grad=True) Parameter containing:\n",
      "tensor([-0.4414], requires_grad=True)\n"
     ]
    }
   ],
   "source": [
    "print(w,b)"
   ]
  },
  {
   "cell_type": "code",
   "execution_count": 151,
   "id": "b7794f91-ff22-4d41-919e-b258811e8793",
   "metadata": {},
   "outputs": [],
   "source": [
    "w1 = w[0][0].item()\n"
   ]
  },
  {
   "cell_type": "code",
   "execution_count": 152,
   "id": "45854f01-0a4e-4b76-9bd8-1c83801c5416",
   "metadata": {},
   "outputs": [
    {
     "data": {
      "text/plain": [
       "0.5152631998062134"
      ]
     },
     "execution_count": 152,
     "metadata": {},
     "output_type": "execute_result"
    }
   ],
   "source": [
    "w1"
   ]
  },
  {
   "cell_type": "code",
   "execution_count": 153,
   "id": "5bec0c5b-e924-4a21-9cb9-ec8b905636db",
   "metadata": {},
   "outputs": [],
   "source": [
    "b1 = b[0].item()"
   ]
  },
  {
   "cell_type": "code",
   "execution_count": 154,
   "id": "2c9e399a-866a-47ef-860f-3ad81eb3ded1",
   "metadata": {},
   "outputs": [
    {
     "data": {
      "text/plain": [
       "-0.44137823581695557"
      ]
     },
     "execution_count": 154,
     "metadata": {},
     "output_type": "execute_result"
    }
   ],
   "source": [
    "b1"
   ]
  },
  {
   "cell_type": "code",
   "execution_count": 159,
   "id": "d9fc6ddb-99bb-4ca2-a586-be8cfda80b50",
   "metadata": {},
   "outputs": [],
   "source": [
    "def get_params():\n",
    "    return (w[0][0].item(),b[0].item())"
   ]
  },
  {
   "cell_type": "code",
   "execution_count": 160,
   "id": "5fa6c1a7-7416-4631-9ced-6e1fa8294e80",
   "metadata": {},
   "outputs": [],
   "source": [
    "def plot_fit(title):\n",
    "    plt.title = title\n",
    "    w1,b1 = get_params()\n",
    "    x1 = np.array([-30, 30])\n",
    "    y1 = w1*x1 + b1\n",
    "    plt.plot(x1,y1,'r')\n",
    "    plt.scatter(x,y)\n",
    "    plt.show()\n"
   ]
  },
  {
   "cell_type": "code",
   "execution_count": 161,
   "id": "c2e82453-67f4-4856-b362-35f965a063ce",
   "metadata": {},
   "outputs": [
    {
     "data": {
      "image/png": "[encoded data removed]",
      "text/plain": [
       "<Figure size 640x480 with 1 Axes>"
      ]
     },
     "metadata": {},
     "output_type": "display_data"
    }
   ],
   "source": [
    "plot_fit('Initial Model')"
   ]
  },
  {
   "cell_type": "code",
   "execution_count": 164,
   "id": "f947f16b-da0d-44b7-adf2-9fffda3ecb26",
   "metadata": {},
   "outputs": [],
   "source": [
    "#above is not the perfect line\n",
    "#optimal line to reduce the error is following\n",
    "criterion = nn.MSELoss()\n",
    "optimizer = torch.optim.SGD(model.parameters(), lr = 0.01)\n"
   ]
  },
  {
   "cell_type": "code",
   "execution_count": 174,
   "id": "3a2f09a9-84c8-4c83-9a98-9d70d9808b4b",
   "metadata": {},
   "outputs": [
    {
     "name": "stdout",
     "output_type": "stream",
     "text": [
      "epoch: 0 loss: 35.20600128173828\n",
      "epoch: 1 loss: 20.201854705810547\n",
      "epoch: 2 loss: 11.801862716674805\n",
      "epoch: 3 loss: 7.099125862121582\n",
      "epoch: 4 loss: 4.466311454772949\n",
      "epoch: 5 loss: 2.9923300743103027\n",
      "epoch: 6 loss: 2.167116641998291\n",
      "epoch: 7 loss: 1.7051150798797607\n",
      "epoch: 8 loss: 1.4464552402496338\n",
      "epoch: 9 loss: 1.301636815071106\n",
      "epoch: 10 loss: 1.2205517292022705\n",
      "epoch: 11 loss: 1.1751484870910645\n",
      "epoch: 12 loss: 1.1497218608856201\n",
      "epoch: 13 loss: 1.1354793310165405\n",
      "epoch: 14 loss: 1.1274982690811157\n",
      "epoch: 15 loss: 1.1230231523513794\n",
      "epoch: 16 loss: 1.1205110549926758\n",
      "epoch: 17 loss: 1.1190980672836304\n",
      "epoch: 18 loss: 1.1183007955551147\n",
      "epoch: 19 loss: 1.117848515510559\n",
      "epoch: 20 loss: 1.1175895929336548\n",
      "epoch: 21 loss: 1.1174389123916626\n",
      "epoch: 22 loss: 1.1173495054244995\n",
      "epoch: 23 loss: 1.117294192314148\n",
      "epoch: 24 loss: 1.1172584295272827\n",
      "epoch: 25 loss: 1.1172336339950562\n",
      "epoch: 26 loss: 1.1172151565551758\n",
      "epoch: 27 loss: 1.117200493812561\n",
      "epoch: 28 loss: 1.1171882152557373\n",
      "epoch: 29 loss: 1.1171773672103882\n",
      "epoch: 30 loss: 1.117167353630066\n",
      "epoch: 31 loss: 1.1171581745147705\n",
      "epoch: 32 loss: 1.1171494722366333\n",
      "epoch: 33 loss: 1.1171410083770752\n",
      "epoch: 34 loss: 1.1171331405639648\n",
      "epoch: 35 loss: 1.1171255111694336\n",
      "epoch: 36 loss: 1.1171183586120605\n",
      "epoch: 37 loss: 1.117111325263977\n",
      "epoch: 38 loss: 1.1171046495437622\n",
      "epoch: 39 loss: 1.1170982122421265\n",
      "epoch: 40 loss: 1.1170918941497803\n",
      "epoch: 41 loss: 1.1170860528945923\n",
      "epoch: 42 loss: 1.1170804500579834\n",
      "epoch: 43 loss: 1.1170750856399536\n",
      "epoch: 44 loss: 1.1170697212219238\n",
      "epoch: 45 loss: 1.1170645952224731\n",
      "epoch: 46 loss: 1.1170598268508911\n",
      "epoch: 47 loss: 1.1170551776885986\n",
      "epoch: 48 loss: 1.1170506477355957\n",
      "epoch: 49 loss: 1.1170462369918823\n",
      "epoch: 50 loss: 1.1170421838760376\n",
      "epoch: 51 loss: 1.1170380115509033\n",
      "epoch: 52 loss: 1.1170345544815063\n",
      "epoch: 53 loss: 1.1170307397842407\n",
      "epoch: 54 loss: 1.1170272827148438\n",
      "epoch: 55 loss: 1.1170239448547363\n",
      "epoch: 56 loss: 1.117020606994629\n",
      "epoch: 57 loss: 1.117017388343811\n",
      "epoch: 58 loss: 1.1170144081115723\n",
      "epoch: 59 loss: 1.117011547088623\n",
      "epoch: 60 loss: 1.117008924484253\n",
      "epoch: 61 loss: 1.1170061826705933\n",
      "epoch: 62 loss: 1.1170037984848022\n",
      "epoch: 63 loss: 1.1170012950897217\n",
      "epoch: 64 loss: 1.1169989109039307\n",
      "epoch: 65 loss: 1.1169966459274292\n",
      "epoch: 66 loss: 1.1169945001602173\n",
      "epoch: 67 loss: 1.116992473602295\n",
      "epoch: 68 loss: 1.116990327835083\n",
      "epoch: 69 loss: 1.1169885396957397\n",
      "epoch: 70 loss: 1.1169867515563965\n",
      "epoch: 71 loss: 1.1169849634170532\n",
      "epoch: 72 loss: 1.1169830560684204\n",
      "epoch: 73 loss: 1.1169813871383667\n",
      "epoch: 74 loss: 1.116979956626892\n",
      "epoch: 75 loss: 1.116978406906128\n",
      "epoch: 76 loss: 1.1169769763946533\n",
      "epoch: 77 loss: 1.1169755458831787\n",
      "epoch: 78 loss: 1.1169739961624146\n",
      "epoch: 79 loss: 1.1169730424880981\n",
      "epoch: 80 loss: 1.1169716119766235\n",
      "epoch: 81 loss: 1.116970419883728\n",
      "epoch: 82 loss: 1.116969347000122\n",
      "epoch: 83 loss: 1.116968035697937\n",
      "epoch: 84 loss: 1.1169673204421997\n",
      "epoch: 85 loss: 1.1169661283493042\n",
      "epoch: 86 loss: 1.1169652938842773\n",
      "epoch: 87 loss: 1.1169642210006714\n",
      "epoch: 88 loss: 1.116963505744934\n",
      "epoch: 89 loss: 1.1169626712799072\n",
      "epoch: 90 loss: 1.1169617176055908\n",
      "epoch: 91 loss: 1.1169610023498535\n",
      "epoch: 92 loss: 1.1169601678848267\n",
      "epoch: 93 loss: 1.1169593334197998\n",
      "epoch: 94 loss: 1.116958498954773\n",
      "epoch: 95 loss: 1.1169581413269043\n",
      "epoch: 96 loss: 1.1169575452804565\n",
      "epoch: 97 loss: 1.1169568300247192\n",
      "epoch: 98 loss: 1.116956353187561\n",
      "epoch: 99 loss: 1.1169556379318237\n"
     ]
    }
   ],
   "source": [
    "epochs = 100\n",
    "losses = []\n",
    "for i in range(epochs):\n",
    "  y_pred = model.forward(x)\n",
    "  loss = criterion(y_pred, y)\n",
    "  print(\"epoch:\", i, \"loss:\", loss.item())\n",
    "  \n",
    "  losses.append(loss)\n",
    "  optimizer.zero_grad()\n",
    "  loss.backward()\n",
    "  optimizer.step()"
   ]
  },
  {
   "cell_type": "code",
   "execution_count": 175,
   "id": "bd1e4d4f-6943-41b3-b122-3abc9f22f8b2",
   "metadata": {},
   "outputs": [
    {
     "ename": "RuntimeError",
     "evalue": "Can't call numpy() on Tensor that requires grad. Use tensor.detach().numpy() instead.",
     "output_type": "error",
     "traceback": [
      "\u001b[1;31m---------------------------------------------------------------------------\u001b[0m",
      "\u001b[1;31mRuntimeError\u001b[0m                              Traceback (most recent call last)",
      "Cell \u001b[1;32mIn[175], line 1\u001b[0m\n\u001b[1;32m----> 1\u001b[0m plt\u001b[38;5;241m.\u001b[39mplot(\u001b[38;5;28mrange\u001b[39m(epochs), losses)\n\u001b[0;32m      2\u001b[0m plt\u001b[38;5;241m.\u001b[39mylabel(\u001b[38;5;124m'\u001b[39m\u001b[38;5;124mLoss\u001b[39m\u001b[38;5;124m'\u001b[39m)\n\u001b[0;32m      3\u001b[0m plt\u001b[38;5;241m.\u001b[39mxlabel(\u001b[38;5;124m'\u001b[39m\u001b[38;5;124mepoch\u001b[39m\u001b[38;5;124m'\u001b[39m)\n",
      "File \u001b[1;32m~\\anaconda3\\Lib\\site-packages\\matplotlib\\pyplot.py:3578\u001b[0m, in \u001b[0;36mplot\u001b[1;34m(scalex, scaley, data, *args, **kwargs)\u001b[0m\n\u001b[0;32m   3570\u001b[0m \u001b[38;5;129m@_copy_docstring_and_deprecators\u001b[39m(Axes\u001b[38;5;241m.\u001b[39mplot)\n\u001b[0;32m   3571\u001b[0m \u001b[38;5;28;01mdef\u001b[39;00m \u001b[38;5;21mplot\u001b[39m(\n\u001b[0;32m   3572\u001b[0m     \u001b[38;5;241m*\u001b[39margs: \u001b[38;5;28mfloat\u001b[39m \u001b[38;5;241m|\u001b[39m ArrayLike \u001b[38;5;241m|\u001b[39m \u001b[38;5;28mstr\u001b[39m,\n\u001b[1;32m   (...)\u001b[0m\n\u001b[0;32m   3576\u001b[0m     \u001b[38;5;241m*\u001b[39m\u001b[38;5;241m*\u001b[39mkwargs,\n\u001b[0;32m   3577\u001b[0m ) \u001b[38;5;241m-\u001b[39m\u001b[38;5;241m>\u001b[39m \u001b[38;5;28mlist\u001b[39m[Line2D]:\n\u001b[1;32m-> 3578\u001b[0m     \u001b[38;5;28;01mreturn\u001b[39;00m gca()\u001b[38;5;241m.\u001b[39mplot(\n\u001b[0;32m   3579\u001b[0m         \u001b[38;5;241m*\u001b[39margs,\n\u001b[0;32m   3580\u001b[0m         scalex\u001b[38;5;241m=\u001b[39mscalex,\n\u001b[0;32m   3581\u001b[0m         scaley\u001b[38;5;241m=\u001b[39mscaley,\n\u001b[0;32m   3582\u001b[0m         \u001b[38;5;241m*\u001b[39m\u001b[38;5;241m*\u001b[39m({\u001b[38;5;124m\"\u001b[39m\u001b[38;5;124mdata\u001b[39m\u001b[38;5;124m\"\u001b[39m: data} \u001b[38;5;28;01mif\u001b[39;00m data \u001b[38;5;129;01mis\u001b[39;00m \u001b[38;5;129;01mnot\u001b[39;00m \u001b[38;5;28;01mNone\u001b[39;00m \u001b[38;5;28;01melse\u001b[39;00m {}),\n\u001b[0;32m   3583\u001b[0m         \u001b[38;5;241m*\u001b[39m\u001b[38;5;241m*\u001b[39mkwargs,\n\u001b[0;32m   3584\u001b[0m     )\n",
      "File \u001b[1;32m~\\anaconda3\\Lib\\site-packages\\matplotlib\\axes\\_axes.py:1721\u001b[0m, in \u001b[0;36mAxes.plot\u001b[1;34m(self, scalex, scaley, data, *args, **kwargs)\u001b[0m\n\u001b[0;32m   1478\u001b[0m \u001b[38;5;250m\u001b[39m\u001b[38;5;124;03m\"\"\"\u001b[39;00m\n\u001b[0;32m   1479\u001b[0m \u001b[38;5;124;03mPlot y versus x as lines and/or markers.\u001b[39;00m\n\u001b[0;32m   1480\u001b[0m \n\u001b[1;32m   (...)\u001b[0m\n\u001b[0;32m   1718\u001b[0m \u001b[38;5;124;03m(``'green'``) or hex strings (``'#008000'``).\u001b[39;00m\n\u001b[0;32m   1719\u001b[0m \u001b[38;5;124;03m\"\"\"\u001b[39;00m\n\u001b[0;32m   1720\u001b[0m kwargs \u001b[38;5;241m=\u001b[39m cbook\u001b[38;5;241m.\u001b[39mnormalize_kwargs(kwargs, mlines\u001b[38;5;241m.\u001b[39mLine2D)\n\u001b[1;32m-> 1721\u001b[0m lines \u001b[38;5;241m=\u001b[39m [\u001b[38;5;241m*\u001b[39m\u001b[38;5;28mself\u001b[39m\u001b[38;5;241m.\u001b[39m_get_lines(\u001b[38;5;28mself\u001b[39m, \u001b[38;5;241m*\u001b[39margs, data\u001b[38;5;241m=\u001b[39mdata, \u001b[38;5;241m*\u001b[39m\u001b[38;5;241m*\u001b[39mkwargs)]\n\u001b[0;32m   1722\u001b[0m \u001b[38;5;28;01mfor\u001b[39;00m line \u001b[38;5;129;01min\u001b[39;00m lines:\n\u001b[0;32m   1723\u001b[0m     \u001b[38;5;28mself\u001b[39m\u001b[38;5;241m.\u001b[39madd_line(line)\n",
      "File \u001b[1;32m~\\anaconda3\\Lib\\site-packages\\matplotlib\\axes\\_base.py:303\u001b[0m, in \u001b[0;36m_process_plot_var_args.__call__\u001b[1;34m(self, axes, data, *args, **kwargs)\u001b[0m\n\u001b[0;32m    301\u001b[0m     this \u001b[38;5;241m+\u001b[39m\u001b[38;5;241m=\u001b[39m args[\u001b[38;5;241m0\u001b[39m],\n\u001b[0;32m    302\u001b[0m     args \u001b[38;5;241m=\u001b[39m args[\u001b[38;5;241m1\u001b[39m:]\n\u001b[1;32m--> 303\u001b[0m \u001b[38;5;28;01myield from\u001b[39;00m \u001b[38;5;28mself\u001b[39m\u001b[38;5;241m.\u001b[39m_plot_args(\n\u001b[0;32m    304\u001b[0m     axes, this, kwargs, ambiguous_fmt_datakey\u001b[38;5;241m=\u001b[39mambiguous_fmt_datakey)\n",
      "File \u001b[1;32m~\\anaconda3\\Lib\\site-packages\\matplotlib\\axes\\_base.py:489\u001b[0m, in \u001b[0;36m_process_plot_var_args._plot_args\u001b[1;34m(self, axes, tup, kwargs, return_kwargs, ambiguous_fmt_datakey)\u001b[0m\n\u001b[0;32m    487\u001b[0m \u001b[38;5;28;01mif\u001b[39;00m \u001b[38;5;28mlen\u001b[39m(xy) \u001b[38;5;241m==\u001b[39m \u001b[38;5;241m2\u001b[39m:\n\u001b[0;32m    488\u001b[0m     x \u001b[38;5;241m=\u001b[39m _check_1d(xy[\u001b[38;5;241m0\u001b[39m])\n\u001b[1;32m--> 489\u001b[0m     y \u001b[38;5;241m=\u001b[39m _check_1d(xy[\u001b[38;5;241m1\u001b[39m])\n\u001b[0;32m    490\u001b[0m \u001b[38;5;28;01melse\u001b[39;00m:\n\u001b[0;32m    491\u001b[0m     x, y \u001b[38;5;241m=\u001b[39m index_of(xy[\u001b[38;5;241m-\u001b[39m\u001b[38;5;241m1\u001b[39m])\n",
      "File \u001b[1;32m~\\anaconda3\\Lib\\site-packages\\matplotlib\\cbook.py:1358\u001b[0m, in \u001b[0;36m_check_1d\u001b[1;34m(x)\u001b[0m\n\u001b[0;32m   1352\u001b[0m \u001b[38;5;66;03m# plot requires `shape` and `ndim`.  If passed an\u001b[39;00m\n\u001b[0;32m   1353\u001b[0m \u001b[38;5;66;03m# object that doesn't provide them, then force to numpy array.\u001b[39;00m\n\u001b[0;32m   1354\u001b[0m \u001b[38;5;66;03m# Note this will strip unit information.\u001b[39;00m\n\u001b[0;32m   1355\u001b[0m \u001b[38;5;28;01mif\u001b[39;00m (\u001b[38;5;129;01mnot\u001b[39;00m \u001b[38;5;28mhasattr\u001b[39m(x, \u001b[38;5;124m'\u001b[39m\u001b[38;5;124mshape\u001b[39m\u001b[38;5;124m'\u001b[39m) \u001b[38;5;129;01mor\u001b[39;00m\n\u001b[0;32m   1356\u001b[0m         \u001b[38;5;129;01mnot\u001b[39;00m \u001b[38;5;28mhasattr\u001b[39m(x, \u001b[38;5;124m'\u001b[39m\u001b[38;5;124mndim\u001b[39m\u001b[38;5;124m'\u001b[39m) \u001b[38;5;129;01mor\u001b[39;00m\n\u001b[0;32m   1357\u001b[0m         \u001b[38;5;28mlen\u001b[39m(x\u001b[38;5;241m.\u001b[39mshape) \u001b[38;5;241m<\u001b[39m \u001b[38;5;241m1\u001b[39m):\n\u001b[1;32m-> 1358\u001b[0m     \u001b[38;5;28;01mreturn\u001b[39;00m np\u001b[38;5;241m.\u001b[39matleast_1d(x)\n\u001b[0;32m   1359\u001b[0m \u001b[38;5;28;01melse\u001b[39;00m:\n\u001b[0;32m   1360\u001b[0m     \u001b[38;5;28;01mreturn\u001b[39;00m x\n",
      "File \u001b[1;32m~\\anaconda3\\Lib\\site-packages\\numpy\\core\\shape_base.py:65\u001b[0m, in \u001b[0;36matleast_1d\u001b[1;34m(*arys)\u001b[0m\n\u001b[0;32m     63\u001b[0m res \u001b[38;5;241m=\u001b[39m []\n\u001b[0;32m     64\u001b[0m \u001b[38;5;28;01mfor\u001b[39;00m ary \u001b[38;5;129;01min\u001b[39;00m arys:\n\u001b[1;32m---> 65\u001b[0m     ary \u001b[38;5;241m=\u001b[39m asanyarray(ary)\n\u001b[0;32m     66\u001b[0m     \u001b[38;5;28;01mif\u001b[39;00m ary\u001b[38;5;241m.\u001b[39mndim \u001b[38;5;241m==\u001b[39m \u001b[38;5;241m0\u001b[39m:\n\u001b[0;32m     67\u001b[0m         result \u001b[38;5;241m=\u001b[39m ary\u001b[38;5;241m.\u001b[39mreshape(\u001b[38;5;241m1\u001b[39m)\n",
      "File \u001b[1;32m~\\anaconda3\\Lib\\site-packages\\torch\\_tensor.py:1087\u001b[0m, in \u001b[0;36mTensor.__array__\u001b[1;34m(self, dtype)\u001b[0m\n\u001b[0;32m   1085\u001b[0m     \u001b[38;5;28;01mreturn\u001b[39;00m handle_torch_function(Tensor\u001b[38;5;241m.\u001b[39m__array__, (\u001b[38;5;28mself\u001b[39m,), \u001b[38;5;28mself\u001b[39m, dtype\u001b[38;5;241m=\u001b[39mdtype)\n\u001b[0;32m   1086\u001b[0m \u001b[38;5;28;01mif\u001b[39;00m dtype \u001b[38;5;129;01mis\u001b[39;00m \u001b[38;5;28;01mNone\u001b[39;00m:\n\u001b[1;32m-> 1087\u001b[0m     \u001b[38;5;28;01mreturn\u001b[39;00m \u001b[38;5;28mself\u001b[39m\u001b[38;5;241m.\u001b[39mnumpy()\n\u001b[0;32m   1088\u001b[0m \u001b[38;5;28;01melse\u001b[39;00m:\n\u001b[0;32m   1089\u001b[0m     \u001b[38;5;28;01mreturn\u001b[39;00m \u001b[38;5;28mself\u001b[39m\u001b[38;5;241m.\u001b[39mnumpy()\u001b[38;5;241m.\u001b[39mastype(dtype, copy\u001b[38;5;241m=\u001b[39m\u001b[38;5;28;01mFalse\u001b[39;00m)\n",
      "\u001b[1;31mRuntimeError\u001b[0m: Can't call numpy() on Tensor that requires grad. Use tensor.detach().numpy() instead."
     ]
    },
    {
     "data": {
      "image/png": "[encoded data removed]",
      "text/plain": [
       "<Figure size 640x480 with 1 Axes>"
      ]
     },
     "metadata": {},
     "output_type": "display_data"
    }
   ],
   "source": [
    "plt.plot(range(epochs), losses)\n",
    "plt.ylabel('Loss')\n",
    "plt.xlabel('epoch')"
   ]
  },
  {
   "cell_type": "code",
   "execution_count": 172,
   "id": "ab564438-46dd-4b49-9285-86e363963ab5",
   "metadata": {},
   "outputs": [
    {
     "ename": "RuntimeError",
     "evalue": "Can't call numpy() on Tensor that requires grad. Use tensor.detach().numpy() instead.",
     "output_type": "error",
     "traceback": [
      "\u001b[1;31m---------------------------------------------------------------------------\u001b[0m",
      "\u001b[1;31mRuntimeError\u001b[0m                              Traceback (most recent call last)",
      "Cell \u001b[1;32mIn[172], line 1\u001b[0m\n\u001b[1;32m----> 1\u001b[0m plt\u001b[38;5;241m.\u001b[39mplot(\u001b[38;5;28mrange\u001b[39m(epochs), losses)\n\u001b[0;32m      2\u001b[0m plt\u001b[38;5;241m.\u001b[39mylabel(\u001b[38;5;124m'\u001b[39m\u001b[38;5;124mLoss\u001b[39m\u001b[38;5;124m'\u001b[39m)\n\u001b[0;32m      3\u001b[0m plt\u001b[38;5;241m.\u001b[39mxlabel(\u001b[38;5;124m'\u001b[39m\u001b[38;5;124mepoch\u001b[39m\u001b[38;5;124m'\u001b[39m)\n",
      "File \u001b[1;32m~\\anaconda3\\Lib\\site-packages\\matplotlib\\pyplot.py:3578\u001b[0m, in \u001b[0;36mplot\u001b[1;34m(scalex, scaley, data, *args, **kwargs)\u001b[0m\n\u001b[0;32m   3570\u001b[0m \u001b[38;5;129m@_copy_docstring_and_deprecators\u001b[39m(Axes\u001b[38;5;241m.\u001b[39mplot)\n\u001b[0;32m   3571\u001b[0m \u001b[38;5;28;01mdef\u001b[39;00m \u001b[38;5;21mplot\u001b[39m(\n\u001b[0;32m   3572\u001b[0m     \u001b[38;5;241m*\u001b[39margs: \u001b[38;5;28mfloat\u001b[39m \u001b[38;5;241m|\u001b[39m ArrayLike \u001b[38;5;241m|\u001b[39m \u001b[38;5;28mstr\u001b[39m,\n\u001b[1;32m   (...)\u001b[0m\n\u001b[0;32m   3576\u001b[0m     \u001b[38;5;241m*\u001b[39m\u001b[38;5;241m*\u001b[39mkwargs,\n\u001b[0;32m   3577\u001b[0m ) \u001b[38;5;241m-\u001b[39m\u001b[38;5;241m>\u001b[39m \u001b[38;5;28mlist\u001b[39m[Line2D]:\n\u001b[1;32m-> 3578\u001b[0m     \u001b[38;5;28;01mreturn\u001b[39;00m gca()\u001b[38;5;241m.\u001b[39mplot(\n\u001b[0;32m   3579\u001b[0m         \u001b[38;5;241m*\u001b[39margs,\n\u001b[0;32m   3580\u001b[0m         scalex\u001b[38;5;241m=\u001b[39mscalex,\n\u001b[0;32m   3581\u001b[0m         scaley\u001b[38;5;241m=\u001b[39mscaley,\n\u001b[0;32m   3582\u001b[0m         \u001b[38;5;241m*\u001b[39m\u001b[38;5;241m*\u001b[39m({\u001b[38;5;124m\"\u001b[39m\u001b[38;5;124mdata\u001b[39m\u001b[38;5;124m\"\u001b[39m: data} \u001b[38;5;28;01mif\u001b[39;00m data \u001b[38;5;129;01mis\u001b[39;00m \u001b[38;5;129;01mnot\u001b[39;00m \u001b[38;5;28;01mNone\u001b[39;00m \u001b[38;5;28;01melse\u001b[39;00m {}),\n\u001b[0;32m   3583\u001b[0m         \u001b[38;5;241m*\u001b[39m\u001b[38;5;241m*\u001b[39mkwargs,\n\u001b[0;32m   3584\u001b[0m     )\n",
      "File \u001b[1;32m~\\anaconda3\\Lib\\site-packages\\matplotlib\\axes\\_axes.py:1721\u001b[0m, in \u001b[0;36mAxes.plot\u001b[1;34m(self, scalex, scaley, data, *args, **kwargs)\u001b[0m\n\u001b[0;32m   1478\u001b[0m \u001b[38;5;250m\u001b[39m\u001b[38;5;124;03m\"\"\"\u001b[39;00m\n\u001b[0;32m   1479\u001b[0m \u001b[38;5;124;03mPlot y versus x as lines and/or markers.\u001b[39;00m\n\u001b[0;32m   1480\u001b[0m \n\u001b[1;32m   (...)\u001b[0m\n\u001b[0;32m   1718\u001b[0m \u001b[38;5;124;03m(``'green'``) or hex strings (``'#008000'``).\u001b[39;00m\n\u001b[0;32m   1719\u001b[0m \u001b[38;5;124;03m\"\"\"\u001b[39;00m\n\u001b[0;32m   1720\u001b[0m kwargs \u001b[38;5;241m=\u001b[39m cbook\u001b[38;5;241m.\u001b[39mnormalize_kwargs(kwargs, mlines\u001b[38;5;241m.\u001b[39mLine2D)\n\u001b[1;32m-> 1721\u001b[0m lines \u001b[38;5;241m=\u001b[39m [\u001b[38;5;241m*\u001b[39m\u001b[38;5;28mself\u001b[39m\u001b[38;5;241m.\u001b[39m_get_lines(\u001b[38;5;28mself\u001b[39m, \u001b[38;5;241m*\u001b[39margs, data\u001b[38;5;241m=\u001b[39mdata, \u001b[38;5;241m*\u001b[39m\u001b[38;5;241m*\u001b[39mkwargs)]\n\u001b[0;32m   1722\u001b[0m \u001b[38;5;28;01mfor\u001b[39;00m line \u001b[38;5;129;01min\u001b[39;00m lines:\n\u001b[0;32m   1723\u001b[0m     \u001b[38;5;28mself\u001b[39m\u001b[38;5;241m.\u001b[39madd_line(line)\n",
      "File \u001b[1;32m~\\anaconda3\\Lib\\site-packages\\matplotlib\\axes\\_base.py:303\u001b[0m, in \u001b[0;36m_process_plot_var_args.__call__\u001b[1;34m(self, axes, data, *args, **kwargs)\u001b[0m\n\u001b[0;32m    301\u001b[0m     this \u001b[38;5;241m+\u001b[39m\u001b[38;5;241m=\u001b[39m args[\u001b[38;5;241m0\u001b[39m],\n\u001b[0;32m    302\u001b[0m     args \u001b[38;5;241m=\u001b[39m args[\u001b[38;5;241m1\u001b[39m:]\n\u001b[1;32m--> 303\u001b[0m \u001b[38;5;28;01myield from\u001b[39;00m \u001b[38;5;28mself\u001b[39m\u001b[38;5;241m.\u001b[39m_plot_args(\n\u001b[0;32m    304\u001b[0m     axes, this, kwargs, ambiguous_fmt_datakey\u001b[38;5;241m=\u001b[39mambiguous_fmt_datakey)\n",
      "File \u001b[1;32m~\\anaconda3\\Lib\\site-packages\\matplotlib\\axes\\_base.py:489\u001b[0m, in \u001b[0;36m_process_plot_var_args._plot_args\u001b[1;34m(self, axes, tup, kwargs, return_kwargs, ambiguous_fmt_datakey)\u001b[0m\n\u001b[0;32m    487\u001b[0m \u001b[38;5;28;01mif\u001b[39;00m \u001b[38;5;28mlen\u001b[39m(xy) \u001b[38;5;241m==\u001b[39m \u001b[38;5;241m2\u001b[39m:\n\u001b[0;32m    488\u001b[0m     x \u001b[38;5;241m=\u001b[39m _check_1d(xy[\u001b[38;5;241m0\u001b[39m])\n\u001b[1;32m--> 489\u001b[0m     y \u001b[38;5;241m=\u001b[39m _check_1d(xy[\u001b[38;5;241m1\u001b[39m])\n\u001b[0;32m    490\u001b[0m \u001b[38;5;28;01melse\u001b[39;00m:\n\u001b[0;32m    491\u001b[0m     x, y \u001b[38;5;241m=\u001b[39m index_of(xy[\u001b[38;5;241m-\u001b[39m\u001b[38;5;241m1\u001b[39m])\n",
      "File \u001b[1;32m~\\anaconda3\\Lib\\site-packages\\matplotlib\\cbook.py:1358\u001b[0m, in \u001b[0;36m_check_1d\u001b[1;34m(x)\u001b[0m\n\u001b[0;32m   1352\u001b[0m \u001b[38;5;66;03m# plot requires `shape` and `ndim`.  If passed an\u001b[39;00m\n\u001b[0;32m   1353\u001b[0m \u001b[38;5;66;03m# object that doesn't provide them, then force to numpy array.\u001b[39;00m\n\u001b[0;32m   1354\u001b[0m \u001b[38;5;66;03m# Note this will strip unit information.\u001b[39;00m\n\u001b[0;32m   1355\u001b[0m \u001b[38;5;28;01mif\u001b[39;00m (\u001b[38;5;129;01mnot\u001b[39;00m \u001b[38;5;28mhasattr\u001b[39m(x, \u001b[38;5;124m'\u001b[39m\u001b[38;5;124mshape\u001b[39m\u001b[38;5;124m'\u001b[39m) \u001b[38;5;129;01mor\u001b[39;00m\n\u001b[0;32m   1356\u001b[0m         \u001b[38;5;129;01mnot\u001b[39;00m \u001b[38;5;28mhasattr\u001b[39m(x, \u001b[38;5;124m'\u001b[39m\u001b[38;5;124mndim\u001b[39m\u001b[38;5;124m'\u001b[39m) \u001b[38;5;129;01mor\u001b[39;00m\n\u001b[0;32m   1357\u001b[0m         \u001b[38;5;28mlen\u001b[39m(x\u001b[38;5;241m.\u001b[39mshape) \u001b[38;5;241m<\u001b[39m \u001b[38;5;241m1\u001b[39m):\n\u001b[1;32m-> 1358\u001b[0m     \u001b[38;5;28;01mreturn\u001b[39;00m np\u001b[38;5;241m.\u001b[39matleast_1d(x)\n\u001b[0;32m   1359\u001b[0m \u001b[38;5;28;01melse\u001b[39;00m:\n\u001b[0;32m   1360\u001b[0m     \u001b[38;5;28;01mreturn\u001b[39;00m x\n",
      "File \u001b[1;32m~\\anaconda3\\Lib\\site-packages\\numpy\\core\\shape_base.py:65\u001b[0m, in \u001b[0;36matleast_1d\u001b[1;34m(*arys)\u001b[0m\n\u001b[0;32m     63\u001b[0m res \u001b[38;5;241m=\u001b[39m []\n\u001b[0;32m     64\u001b[0m \u001b[38;5;28;01mfor\u001b[39;00m ary \u001b[38;5;129;01min\u001b[39;00m arys:\n\u001b[1;32m---> 65\u001b[0m     ary \u001b[38;5;241m=\u001b[39m asanyarray(ary)\n\u001b[0;32m     66\u001b[0m     \u001b[38;5;28;01mif\u001b[39;00m ary\u001b[38;5;241m.\u001b[39mndim \u001b[38;5;241m==\u001b[39m \u001b[38;5;241m0\u001b[39m:\n\u001b[0;32m     67\u001b[0m         result \u001b[38;5;241m=\u001b[39m ary\u001b[38;5;241m.\u001b[39mreshape(\u001b[38;5;241m1\u001b[39m)\n",
      "File \u001b[1;32m~\\anaconda3\\Lib\\site-packages\\torch\\_tensor.py:1087\u001b[0m, in \u001b[0;36mTensor.__array__\u001b[1;34m(self, dtype)\u001b[0m\n\u001b[0;32m   1085\u001b[0m     \u001b[38;5;28;01mreturn\u001b[39;00m handle_torch_function(Tensor\u001b[38;5;241m.\u001b[39m__array__, (\u001b[38;5;28mself\u001b[39m,), \u001b[38;5;28mself\u001b[39m, dtype\u001b[38;5;241m=\u001b[39mdtype)\n\u001b[0;32m   1086\u001b[0m \u001b[38;5;28;01mif\u001b[39;00m dtype \u001b[38;5;129;01mis\u001b[39;00m \u001b[38;5;28;01mNone\u001b[39;00m:\n\u001b[1;32m-> 1087\u001b[0m     \u001b[38;5;28;01mreturn\u001b[39;00m \u001b[38;5;28mself\u001b[39m\u001b[38;5;241m.\u001b[39mnumpy()\n\u001b[0;32m   1088\u001b[0m \u001b[38;5;28;01melse\u001b[39;00m:\n\u001b[0;32m   1089\u001b[0m     \u001b[38;5;28;01mreturn\u001b[39;00m \u001b[38;5;28mself\u001b[39m\u001b[38;5;241m.\u001b[39mnumpy()\u001b[38;5;241m.\u001b[39mastype(dtype, copy\u001b[38;5;241m=\u001b[39m\u001b[38;5;28;01mFalse\u001b[39;00m)\n",
      "\u001b[1;31mRuntimeError\u001b[0m: Can't call numpy() on Tensor that requires grad. Use tensor.detach().numpy() instead."
     ]
    },
    {
     "data": {
      "image/png": "[encoded data removed]",
      "text/plain": [
       "<Figure size 640x480 with 1 Axes>"
      ]
     },
     "metadata": {},
     "output_type": "display_data"
    }
   ],
   "source": [
    "plt.plot(range(epochs), losses)\n",
    "plt.ylabel('Loss')\n",
    "plt.xlabel('epoch')\n",
    "     "
   ]
  },
  {
   "cell_type": "code",
   "execution_count": 176,
   "id": "18c2e78b-fe43-4da8-bb49-8bede1fac3da",
   "metadata": {},
   "outputs": [
    {
     "data": {
      "image/png": "[encoded data removed]",
      "text/plain": [
       "<Figure size 640x480 with 1 Axes>"
      ]
     },
     "metadata": {},
     "output_type": "display_data"
    }
   ],
   "source": [
    "plot_fit(\"Trained Model\")"
   ]
  },
  {
   "cell_type": "code",
   "execution_count": 178,
   "id": "d90ebcec-05c6-4599-980d-4ae8c3795da3",
   "metadata": {},
   "outputs": [
    {
     "data": {
      "text/plain": [
       "tensor([[  5.3569],\n",
       "        [ -4.3119],\n",
       "        [  1.5728],\n",
       "        [ 12.5396],\n",
       "        [ 13.2752],\n",
       "        [ -4.9541],\n",
       "        [ 15.4962],\n",
       "        [  3.4763],\n",
       "        [  1.0181],\n",
       "        [  3.4001],\n",
       "        [ -6.4467],\n",
       "        [ -2.8702],\n",
       "        [ 33.2122],\n",
       "        [ -4.0206],\n",
       "        [ -7.1226],\n",
       "        [ -6.2003],\n",
       "        [  6.3484],\n",
       "        [ -8.0436],\n",
       "        [-10.3712],\n",
       "        [-10.6691],\n",
       "        [ -2.0850],\n",
       "        [ -2.1552],\n",
       "        [  2.7053],\n",
       "        [  5.5969],\n",
       "        [ 17.1332],\n",
       "        [-17.9427],\n",
       "        [-15.2080],\n",
       "        [  9.1958],\n",
       "        [ -5.4835],\n",
       "        [ -3.4724],\n",
       "        [ -7.4745],\n",
       "        [ -9.2344],\n",
       "        [  5.5137],\n",
       "        [-15.4737],\n",
       "        [  7.5748],\n",
       "        [ -4.0676],\n",
       "        [ -1.2773],\n",
       "        [  2.8037],\n",
       "        [  0.3746],\n",
       "        [ -6.3784],\n",
       "        [ -7.0637],\n",
       "        [ 25.5709],\n",
       "        [  7.7053],\n",
       "        [-10.7391],\n",
       "        [ -2.0151],\n",
       "        [ -5.6026],\n",
       "        [  6.8171],\n",
       "        [ -5.1700],\n",
       "        [  8.7484],\n",
       "        [  9.8728],\n",
       "        [  2.5047],\n",
       "        [ -7.9303],\n",
       "        [  5.2310],\n",
       "        [ 12.2361],\n",
       "        [ -9.4579],\n",
       "        [-13.5291],\n",
       "        [ -0.0521],\n",
       "        [ -0.7886],\n",
       "        [ -3.8912],\n",
       "        [ -0.7960],\n",
       "        [  7.6048],\n",
       "        [-10.0252],\n",
       "        [  9.4617],\n",
       "        [  3.5120],\n",
       "        [ -1.6366],\n",
       "        [ -3.5822],\n",
       "        [ -0.5944],\n",
       "        [-24.9194],\n",
       "        [  2.4226],\n",
       "        [  2.8831],\n",
       "        [ -1.0952],\n",
       "        [  3.1257],\n",
       "        [ -3.4168],\n",
       "        [  9.4734],\n",
       "        [  6.2233],\n",
       "        [ -4.4814],\n",
       "        [ -2.8565],\n",
       "        [  3.8798],\n",
       "        [-11.4347],\n",
       "        [ -6.5123],\n",
       "        [-29.1674],\n",
       "        [ -5.6733],\n",
       "        [-11.9918],\n",
       "        [ -0.4742],\n",
       "        [ -6.5368],\n",
       "        [ 15.5862],\n",
       "        [  4.0007],\n",
       "        [ 24.4228],\n",
       "        [ -3.8184],\n",
       "        [  4.3265],\n",
       "        [ 16.4991],\n",
       "        [ -4.3200],\n",
       "        [  5.7302],\n",
       "        [-17.9624],\n",
       "        [ -3.0614],\n",
       "        [ -4.2027],\n",
       "        [  2.8281],\n",
       "        [  3.6424],\n",
       "        [ -0.7983],\n",
       "        [  3.4172]])"
      ]
     },
     "execution_count": 178,
     "metadata": {},
     "output_type": "execute_result"
    }
   ],
   "source": [
    "x = torch.randn(100,1) *10\n",
    "x"
   ]
  },
  {
   "cell_type": "code",
   "execution_count": 181,
   "id": "4f17e36e-5a9a-4cc5-886c-d061081911f2",
   "metadata": {},
   "outputs": [],
   "source": [
    "y = x + 3*torch.randn(100,1)"
   ]
  },
  {
   "cell_type": "code",
   "execution_count": 182,
   "id": "cf160a06-d530-4e99-8dd8-adc05cf5bc8d",
   "metadata": {},
   "outputs": [
    {
     "data": {
      "image/png": "[encoded data removed]",
      "text/plain": [
       "<Figure size 640x480 with 1 Axes>"
      ]
     },
     "metadata": {},
     "output_type": "display_data"
    }
   ],
   "source": [
    "import matplotlib.pyplot as plt\n",
    "plt.plot(x.numpy(),y.numpy(),'o')\n",
    "plt.ylabel('y')\n",
    "plt.xlabel('x')\n",
    "plt.show()\n"
   ]
  },
  {
   "cell_type": "code",
   "execution_count": null,
   "id": "c8e041c3-8267-4d61-9ba5-70be94a6ddbd",
   "metadata": {},
   "outputs": [],
   "source": [
    "[w,b]= model.parameters()\n",
    "def get_params():\n",
    "    return()"
   ]
  }
 ],
 "metadata": {
  "kernelspec": {
   "display_name": "Python 3 (ipykernel)",
   "language": "python",
   "name": "python3"
  },
  "language_info": {
   "codemirror_mode": {
    "name": "ipython",
    "version": 3
   },
   "file_extension": ".py",
   "mimetype": "text/x-python",
   "name": "python",
   "nbconvert_exporter": "python",
   "pygments_lexer": "ipython3",
   "version": "3.11.7"
  }
 },
 "nbformat": 4,
 "nbformat_minor": 5
}
